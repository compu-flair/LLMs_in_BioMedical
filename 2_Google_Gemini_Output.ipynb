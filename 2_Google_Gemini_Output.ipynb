{
 "cells": [
  {
   "cell_type": "code",
   "execution_count": 1,
   "metadata": {},
   "outputs": [],
   "source": [
    "import os"
   ]
  },
  {
   "cell_type": "code",
   "execution_count": 2,
   "metadata": {},
   "outputs": [],
   "source": [
    "from dotenv import load_dotenv"
   ]
  },
  {
   "cell_type": "code",
   "execution_count": 3,
   "metadata": {},
   "outputs": [],
   "source": [
    "load_dotenv(\".env\")\n",
    "openai_api_key = os.getenv(\"openai_api_key\")\n",
    "GOOGLE_API_KEY = os.getenv(\"GOOGLE_API_KEY\")"
   ]
  },
  {
   "cell_type": "code",
   "execution_count": 4,
   "metadata": {},
   "outputs": [
    {
     "name": "stderr",
     "output_type": "stream",
     "text": [
      "/Users/ahmadborzou/F/LangChain_Tutorial/miniconda3/lib/python3.11/site-packages/tqdm/auto.py:21: TqdmWarning: IProgress not found. Please update jupyter and ipywidgets. See https://ipywidgets.readthedocs.io/en/stable/user_install.html\n",
      "  from .autonotebook import tqdm as notebook_tqdm\n"
     ]
    }
   ],
   "source": [
    "from langchain_google_genai.llms import GoogleGenerativeAI"
   ]
  },
  {
   "cell_type": "code",
   "execution_count": 5,
   "metadata": {},
   "outputs": [],
   "source": [
    "llm = GoogleGenerativeAI(google_api_key=GOOGLE_API_KEY, model=\"gemini-pro\")"
   ]
  },
  {
   "cell_type": "code",
   "execution_count": null,
   "metadata": {},
   "outputs": [],
   "source": [
    "llm.invoke(\"tell me a joke.\")"
   ]
  },
  {
   "cell_type": "code",
   "execution_count": 7,
   "metadata": {},
   "outputs": [],
   "source": [
    "from langchain_core.prompts import ChatPromptTemplate"
   ]
  },
  {
   "cell_type": "code",
   "execution_count": 8,
   "metadata": {},
   "outputs": [],
   "source": [
    "prompt = ChatPromptTemplate.from_messages(\n",
    "    [\n",
    "        (\"system\", \"You are a helpful assistant.\"),\n",
    "        (\"user\", \"I would like to understant {user_input}. Can you tell me more about it?\")\n",
    "    ]\n",
    ")"
   ]
  },
  {
   "cell_type": "code",
   "execution_count": 11,
   "metadata": {},
   "outputs": [],
   "source": [
    "from langchain_core.output_parsers import StrOutputParser"
   ]
  },
  {
   "cell_type": "code",
   "execution_count": 15,
   "metadata": {},
   "outputs": [],
   "source": [
    "out_parser = StrOutputParser()"
   ]
  },
  {
   "cell_type": "code",
   "execution_count": 16,
   "metadata": {},
   "outputs": [],
   "source": [
    "chain = prompt | llm | out_parser"
   ]
  },
  {
   "cell_type": "code",
   "execution_count": 17,
   "metadata": {},
   "outputs": [],
   "source": [
    "ai_message = chain.invoke({\"user_input\":\"Steve Jobs\"})"
   ]
  },
  {
   "cell_type": "code",
   "execution_count": 19,
   "metadata": {},
   "outputs": [
    {
     "data": {
      "text/plain": [
       "'Sure, here is some information about Steve Jobs:\\n\\n* **Early Life and Education:**\\n    * Born on February 24, 1955, in San Francisco, California.\\n    * Adopted by Paul and Clara Jobs, a working-class couple.\\n    * Attended Homestead High School in Cupertino, California.\\n    * Dropped out of Reed College in Portland, Oregon, after six months.\\n\\n* **Apple Computer:**\\n    * Co-founded Apple Computer with Steve Wozniak in 1976.\\n    * Developed and marketed the Apple I and Apple II personal computers.\\n    * The Apple II became one of the first commercially successful personal computers.\\n\\n* **NeXT:**\\n    * Founded NeXT Inc. in 1985 after leaving Apple.\\n    * Developed the NeXT computer and NeXTSTEP operating system.\\n    * NeXTSTEP later became the foundation for macOS.\\n\\n* **Return to Apple:**\\n    * Returned to Apple in 1997 after the company acquired NeXT.\\n    * Led Apple through a period of innovation and resurgence.\\n    * Introduced the iMac, iPod, iPhone, and iPad.\\n\\n* **Leadership and Innovation:**\\n    * Known for his charismatic leadership style and insistence on perfection.\\n    * Focused on user experience and design.\\n    * Credited with revolutionizing the personal computer, mobile phone, and digital music industries.\\n\\n* **Death:**\\n    * Diagnosed with pancreatic cancer in 2003.\\n    * Resigned as Apple CEO in 2011.\\n    * Passed away on October 5, 2011, at the age of 56.\\n\\nSteve Jobs is widely considered one of the most influential figures in the history of technology and business. His legacy continues to inspire entrepreneurs and innovators around the world.'"
      ]
     },
     "execution_count": 19,
     "metadata": {},
     "output_type": "execute_result"
    }
   ],
   "source": [
    "ai_message"
   ]
  },
  {
   "cell_type": "code",
   "execution_count": 20,
   "metadata": {},
   "outputs": [
    {
     "name": "stdout",
     "output_type": "stream",
     "text": [
      "Sure, here is some information about Steve Jobs:\n",
      "\n",
      "* **Early Life and Education:**\n",
      "    * Born on February 24, 1955, in San Francisco, California.\n",
      "    * Adopted by Paul and Clara Jobs, a working-class couple.\n",
      "    * Attended Homestead High School in Cupertino, California.\n",
      "    * Dropped out of Reed College in Portland, Oregon, after six months.\n",
      "\n",
      "* **Apple Computer:**\n",
      "    * Co-founded Apple Computer with Steve Wozniak in 1976.\n",
      "    * Developed and marketed the Apple I and Apple II personal computers.\n",
      "    * The Apple II became one of the first commercially successful personal computers.\n",
      "\n",
      "* **NeXT:**\n",
      "    * Founded NeXT Inc. in 1985 after leaving Apple.\n",
      "    * Developed the NeXT computer and NeXTSTEP operating system.\n",
      "    * NeXTSTEP later became the foundation for macOS.\n",
      "\n",
      "* **Return to Apple:**\n",
      "    * Returned to Apple in 1997 after the company acquired NeXT.\n",
      "    * Led Apple through a period of innovation and resurgence.\n",
      "    * Introduced the iMac, iPod, iPhone, and iPad.\n",
      "\n",
      "* **Leadership and Innovation:**\n",
      "    * Known for his charismatic leadership style and insistence on perfection.\n",
      "    * Focused on user experience and design.\n",
      "    * Credited with revolutionizing the personal computer, mobile phone, and digital music industries.\n",
      "\n",
      "* **Death:**\n",
      "    * Diagnosed with pancreatic cancer in 2003.\n",
      "    * Resigned as Apple CEO in 2011.\n",
      "    * Passed away on October 5, 2011, at the age of 56.\n",
      "\n",
      "Steve Jobs is widely considered one of the most influential figures in the history of technology and business. His legacy continues to inspire entrepreneurs and innovators around the world.\n"
     ]
    }
   ],
   "source": [
    "print(ai_message)"
   ]
  },
  {
   "cell_type": "code",
   "execution_count": null,
   "metadata": {},
   "outputs": [],
   "source": []
  }
 ],
 "metadata": {
  "kernelspec": {
   "display_name": "venv",
   "language": "python",
   "name": "python3"
  },
  "language_info": {
   "codemirror_mode": {
    "name": "ipython",
    "version": 3
   },
   "file_extension": ".py",
   "mimetype": "text/x-python",
   "name": "python",
   "nbconvert_exporter": "python",
   "pygments_lexer": "ipython3",
   "version": "3.11.5"
  }
 },
 "nbformat": 4,
 "nbformat_minor": 2
}
