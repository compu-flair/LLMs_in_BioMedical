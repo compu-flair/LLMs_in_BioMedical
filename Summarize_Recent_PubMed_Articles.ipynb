{
 "cells": [
  {
   "cell_type": "code",
   "execution_count": null,
   "metadata": {
    "colab": {
     "base_uri": "https://localhost:8080/"
    },
    "id": "eN_vU0w63KVK",
    "outputId": "07f76529-19af-43cf-a8a3-319a0e18cfb4",
    "scrolled": true
   },
   "outputs": [],
   "source": [
    "#!pip install biopython"
   ]
  },
  {
   "cell_type": "code",
   "execution_count": null,
   "metadata": {
    "id": "9O8yqBtb3HAg"
   },
   "outputs": [],
   "source": [
    "from Bio import Entrez"
   ]
  },
  {
   "cell_type": "code",
   "execution_count": null,
   "metadata": {
    "id": "GeYVfoAN3EeO"
   },
   "outputs": [],
   "source": [
    "'''\n",
    "sort_by possible strings for PubMed:\n",
    "----\n",
    "pub_date – descending sort by publication date\n",
    "Author – ascending sort by first author\n",
    "JournalName – ascending sort by journal name\n",
    "relevance – default sort order, (“Best Match”) on web PubMed\n",
    "'''\n",
    "sort_by = 'pub_date'\n",
    "\n",
    "def search_article(query, number_of_articles=50):\n",
    "    Entrez.email = \"YourEmail@example.com\"  # Always provide your email\n",
    "\n",
    "    handle = Entrez.esearch(db=\"pubmed\", term=query, retmax=number_of_articles, sort=sort_by)\n",
    "    record = Entrez.read(handle)\n",
    "    handle.close()\n",
    "    return record[\"IdList\"]\n",
    "\n",
    "def fetch_details(pmid):\n",
    "    handle = Entrez.efetch(db=\"pubmed\", id=pmid, retmode=\"xml\")\n",
    "    records = Entrez.read(handle)\n",
    "    handle.close()\n",
    "    return records\n"
   ]
  },
  {
   "cell_type": "code",
   "execution_count": null,
   "metadata": {
    "id": "eDOIUH9X5Rmi"
   },
   "outputs": [],
   "source": [
    "# Example usage\n",
    "query = \"what are the biomarkers for Alzheimer\"\n",
    "pmid_list = search_article(query)\n",
    "citation_arr = []\n",
    "abstract_arr = []\n",
    "if pmid_list:\n",
    "    for pmid in pmid_list:  # Fetch details for the first article\n",
    "      details = fetch_details(pmid)\n",
    "      ##########################\n",
    "      ## abstract of the article\n",
    "      ##########################\n",
    "      try:\n",
    "        abstract_text = details['PubmedArticle'][0]['MedlineCitation']['Article']['Abstract']['AbstractText'][0]\n",
    "      except:\n",
    "        continue\n",
    "      ##################\n",
    "      ## article details\n",
    "      ##################\n",
    "      article = details['PubmedArticle'][0]['MedlineCitation']['Article']\n",
    "      journal = article['Journal']\n",
    "      pubmed_data = details['PubmedArticle'][0]['PubmedData']\n",
    "\n",
    "      # Article Title\n",
    "      title = article.get('ArticleTitle', 'No title available')\n",
    "\n",
    "      try:\n",
    "        # Authors\n",
    "        authors = article['AuthorList']\n",
    "        author_str = ', '.join([f\"{a['LastName']} {a['ForeName'][0]}\" for a in authors])\n",
    "\n",
    "      # Journal Info\n",
    "        journal_title = journal.get('Title', 'No journal title available')\n",
    "        journal_volume = journal['JournalIssue'].get('Volume', 'No volume')\n",
    "        journal_issue = journal['JournalIssue'].get('Issue', 'No issue')\n",
    "        pub_date = article.get('ArticleDate', [{'Year': 'No year', 'Month': 'No month', 'Day': 'No day'}])[0]\n",
    "        pub_year = pub_date['Year']\n",
    "        pub_month = pub_date['Month']\n",
    "        pub_day = pub_date['Day']\n",
    "        pages = article['Pagination'].get('StartPage', 'No pages')\n",
    "        citation = f\"{author_str}. {title}. {journal_title}. {pub_year} {pub_month} {pub_day};{journal_volume}({journal_issue}):{pages}. PMID: {pmid}.\"\n",
    "      except:\n",
    "        citation = f\"{title}. {journal_title}. PMID: {pmid}.\"\n",
    "      \n",
    "      citation_arr.append(citation)\n",
    "      abstract_arr.append(abstract_text)\n",
    "\n",
    "else:\n",
    "    print(\"No articles found\")"
   ]
  },
  {
   "cell_type": "code",
   "execution_count": null,
   "metadata": {},
   "outputs": [],
   "source": [
    "print(f\"number of abstracts: {len(abstract_arr)}\\nnumber of citations: {len(citation_arr)}\")"
   ]
  },
  {
   "cell_type": "code",
   "execution_count": null,
   "metadata": {},
   "outputs": [],
   "source": [
    "from langchain_core.documents.base import Document"
   ]
  },
  {
   "cell_type": "code",
   "execution_count": null,
   "metadata": {},
   "outputs": [],
   "source": [
    "docs = [Document(page_content=abstract) for abstract in abstract_arr ]"
   ]
  },
  {
   "cell_type": "code",
   "execution_count": null,
   "metadata": {},
   "outputs": [],
   "source": [
    "docs[3]"
   ]
  },
  {
   "cell_type": "code",
   "execution_count": null,
   "metadata": {},
   "outputs": [],
   "source": [
    "import os\n",
    "from dotenv import load_dotenv\n",
    "\n",
    "# Load environment variables from a .env file\n",
    "load_dotenv(\"../.env\")\n",
    "\n",
    "openai_api_key = os.getenv('openai_api_key')\n"
   ]
  },
  {
   "cell_type": "code",
   "execution_count": null,
   "metadata": {
    "scrolled": true
   },
   "outputs": [],
   "source": [
    "from langchain.embeddings import OpenAIEmbeddings\n",
    "embeddings = OpenAIEmbeddings(openai_api_key=openai_api_key)\n",
    "numeric_vectors = embeddings.embed_documents([doc.page_content for doc in docs])"
   ]
  },
  {
   "cell_type": "code",
   "execution_count": null,
   "metadata": {
    "scrolled": true
   },
   "outputs": [],
   "source": [
    "numeric_vectors[0][0:5]"
   ]
  },
  {
   "cell_type": "code",
   "execution_count": null,
   "metadata": {},
   "outputs": [],
   "source": [
    "import numpy as np\n",
    "import matplotlib.pyplot as plt\n",
    "from sklearn.cluster import KMeans\n",
    "\n",
    "# Calculate within-cluster sum of square (WCSS) for a range of number of clusters\n",
    "wcss = []\n",
    "for i in range(1,len(numeric_vectors)):\n",
    "    kmeans = KMeans(n_clusters=i, init='k-means++', max_iter=300, n_init=10, random_state=0)\n",
    "    kmeans.fit(numeric_vectors)\n",
    "    wcss.append(kmeans.inertia_)"
   ]
  },
  {
   "cell_type": "code",
   "execution_count": null,
   "metadata": {},
   "outputs": [],
   "source": [
    "# Plotting the results onto a line graph\n",
    "plt.figure(figsize=(10,5))\n",
    "plt.plot(range(1,len(numeric_vectors)), wcss)\n",
    "plt.title('Elbow Method')\n",
    "plt.xlabel('Number of clusters')\n",
    "plt.ylabel('WCSS') # within cluster sum of squares\n",
    "plt.show()"
   ]
  },
  {
   "cell_type": "code",
   "execution_count": null,
   "metadata": {
    "scrolled": true
   },
   "outputs": [],
   "source": [
    "kmeans = KMeans(n_clusters=len(numeric_vectors))\n",
    "kmeans.fit(numeric_vectors)"
   ]
  },
  {
   "cell_type": "code",
   "execution_count": null,
   "metadata": {
    "scrolled": true
   },
   "outputs": [],
   "source": [
    "print(f\"abstracts' category labels: \\n\\n{list(kmeans.labels_)}\")"
   ]
  },
  {
   "cell_type": "code",
   "execution_count": null,
   "metadata": {
    "scrolled": true
   },
   "outputs": [],
   "source": [
    "unique_indices = []\n",
    "unique_labels  = []\n",
    "docs_to_be_summarized = []\n",
    "for i, label in enumerate(kmeans.labels_):\n",
    "    if label in unique_labels: continue\n",
    "    unique_indices.append(i)\n",
    "    unique_labels.append(label)\n",
    "    docs_to_be_summarized.append(docs[i])"
   ]
  },
  {
   "cell_type": "code",
   "execution_count": null,
   "metadata": {},
   "outputs": [],
   "source": [
    "## The citations for the selected abstracts\n",
    "np.array(citation_arr)[unique_indices]"
   ]
  },
  {
   "cell_type": "code",
   "execution_count": null,
   "metadata": {},
   "outputs": [],
   "source": [
    "from openai import OpenAI\n",
    "client = OpenAI(\n",
    "    api_key=openai_api_key\n",
    ")"
   ]
  },
  {
   "cell_type": "code",
   "execution_count": null,
   "metadata": {},
   "outputs": [],
   "source": [
    "documents = docs_to_be_summarized\n",
    "# Construct the conversation\n",
    "messages = [{\"role\": \"system\",\n",
    "             \"content\": \"\"\"\n",
    "             You are a professional biomedical researcher.\n",
    "             You will be given a series of article abstracts.\n",
    "             Merge the abstracts into a concise, smooth, and meaningful summary. \n",
    "             The information in your response should exclusively come from the abstracts.\n",
    "                \"\"\"\n",
    "            }]\n",
    "for i, doc in enumerate(documents):\n",
    "    content = doc.page_content if hasattr(doc, 'page_content') else ''\n",
    "    messages.append({\"role\": \"user\", \"content\": f\"abstract {i}:\\n\" + content})\n"
   ]
  },
  {
   "cell_type": "code",
   "execution_count": null,
   "metadata": {},
   "outputs": [],
   "source": [
    "messages"
   ]
  },
  {
   "cell_type": "code",
   "execution_count": null,
   "metadata": {},
   "outputs": [],
   "source": [
    "messages.append({\"role\": \"user\", \"content\": query})"
   ]
  },
  {
   "cell_type": "code",
   "execution_count": null,
   "metadata": {},
   "outputs": [],
   "source": [
    "# Make the API call\n",
    "response = client.chat.completions.create(\n",
    "    model=\"gpt-3.5-turbo-1106\",\n",
    "    messages=messages,\n",
    "    temperature=0.7  # creativity\n",
    ")\n",
    "summary = response.choices[0].message.content"
   ]
  },
  {
   "cell_type": "code",
   "execution_count": null,
   "metadata": {},
   "outputs": [],
   "source": [
    "print(summary)"
   ]
  },
  {
   "cell_type": "code",
   "execution_count": null,
   "metadata": {},
   "outputs": [],
   "source": []
  }
 ],
 "metadata": {
  "colab": {
   "provenance": []
  },
  "kernelspec": {
   "display_name": "Python 3 (ipykernel)",
   "language": "python",
   "name": "python3"
  },
  "language_info": {
   "codemirror_mode": {
    "name": "ipython",
    "version": 3
   },
   "file_extension": ".py",
   "mimetype": "text/x-python",
   "name": "python",
   "nbconvert_exporter": "python",
   "pygments_lexer": "ipython3",
   "version": "3.12.1"
  }
 },
 "nbformat": 4,
 "nbformat_minor": 4
}
