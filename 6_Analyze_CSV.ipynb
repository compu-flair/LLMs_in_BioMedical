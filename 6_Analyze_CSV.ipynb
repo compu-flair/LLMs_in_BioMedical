{
 "cells": [
  {
   "cell_type": "code",
   "execution_count": 1,
   "metadata": {},
   "outputs": [],
   "source": [
    "## import API keys from .env file in this folder\n",
    "import os\n",
    "from dotenv import load_dotenv\n",
    "load_dotenv(\".env\")\n",
    "\n",
    "openai_api_key    = os.getenv(\"openai_api_key\")"
   ]
  },
  {
   "cell_type": "code",
   "execution_count": 2,
   "metadata": {},
   "outputs": [],
   "source": [
    "from langchain_openai import ChatOpenAI\n",
    "\n",
    "llm = ChatOpenAI(model=\"gpt-3.5-turbo-0125\", temperature=0, openai_api_key=openai_api_key)"
   ]
  },
  {
   "cell_type": "code",
   "execution_count": null,
   "metadata": {},
   "outputs": [],
   "source": [
    "# !pip install pandas"
   ]
  },
  {
   "cell_type": "code",
   "execution_count": 3,
   "metadata": {},
   "outputs": [
    {
     "data": {
      "text/html": [
       "<div>\n",
       "<style scoped>\n",
       "    .dataframe tbody tr th:only-of-type {\n",
       "        vertical-align: middle;\n",
       "    }\n",
       "\n",
       "    .dataframe tbody tr th {\n",
       "        vertical-align: top;\n",
       "    }\n",
       "\n",
       "    .dataframe thead th {\n",
       "        text-align: right;\n",
       "    }\n",
       "</style>\n",
       "<table border=\"1\" class=\"dataframe\">\n",
       "  <thead>\n",
       "    <tr style=\"text-align: right;\">\n",
       "      <th></th>\n",
       "      <th>KO_0.1</th>\n",
       "      <th>KO_0.2</th>\n",
       "      <th>KO_0.3</th>\n",
       "      <th>KO_4.1</th>\n",
       "      <th>KO_4.2</th>\n",
       "      <th>KO_4.3</th>\n",
       "      <th>KO_8.1</th>\n",
       "      <th>KO_8.2</th>\n",
       "      <th>KO_8.3</th>\n",
       "      <th>WT_0.1</th>\n",
       "      <th>WT_0.2</th>\n",
       "      <th>WT_0.3</th>\n",
       "      <th>WT_4.1</th>\n",
       "      <th>WT_4.2</th>\n",
       "      <th>WT_8.1</th>\n",
       "      <th>WT_8.2</th>\n",
       "      <th>WT_8.3</th>\n",
       "    </tr>\n",
       "  </thead>\n",
       "  <tbody>\n",
       "    <tr>\n",
       "      <th>ENSMUSG00000102693</th>\n",
       "      <td>0</td>\n",
       "      <td>0</td>\n",
       "      <td>0</td>\n",
       "      <td>0</td>\n",
       "      <td>0</td>\n",
       "      <td>0</td>\n",
       "      <td>0</td>\n",
       "      <td>0</td>\n",
       "      <td>0</td>\n",
       "      <td>0</td>\n",
       "      <td>0</td>\n",
       "      <td>0</td>\n",
       "      <td>0</td>\n",
       "      <td>0</td>\n",
       "      <td>0</td>\n",
       "      <td>0</td>\n",
       "      <td>0</td>\n",
       "    </tr>\n",
       "    <tr>\n",
       "      <th>ENSMUSG00000064842</th>\n",
       "      <td>0</td>\n",
       "      <td>0</td>\n",
       "      <td>0</td>\n",
       "      <td>0</td>\n",
       "      <td>0</td>\n",
       "      <td>0</td>\n",
       "      <td>0</td>\n",
       "      <td>0</td>\n",
       "      <td>0</td>\n",
       "      <td>0</td>\n",
       "      <td>0</td>\n",
       "      <td>0</td>\n",
       "      <td>0</td>\n",
       "      <td>0</td>\n",
       "      <td>0</td>\n",
       "      <td>0</td>\n",
       "      <td>0</td>\n",
       "    </tr>\n",
       "    <tr>\n",
       "      <th>ENSMUSG00000051951</th>\n",
       "      <td>0</td>\n",
       "      <td>0</td>\n",
       "      <td>1</td>\n",
       "      <td>0</td>\n",
       "      <td>0</td>\n",
       "      <td>0</td>\n",
       "      <td>0</td>\n",
       "      <td>0</td>\n",
       "      <td>0</td>\n",
       "      <td>0</td>\n",
       "      <td>0</td>\n",
       "      <td>0</td>\n",
       "      <td>0</td>\n",
       "      <td>0</td>\n",
       "      <td>0</td>\n",
       "      <td>1</td>\n",
       "      <td>0</td>\n",
       "    </tr>\n",
       "    <tr>\n",
       "      <th>ENSMUSG00000102851</th>\n",
       "      <td>0</td>\n",
       "      <td>0</td>\n",
       "      <td>0</td>\n",
       "      <td>0</td>\n",
       "      <td>0</td>\n",
       "      <td>0</td>\n",
       "      <td>0</td>\n",
       "      <td>0</td>\n",
       "      <td>0</td>\n",
       "      <td>0</td>\n",
       "      <td>0</td>\n",
       "      <td>0</td>\n",
       "      <td>0</td>\n",
       "      <td>0</td>\n",
       "      <td>0</td>\n",
       "      <td>0</td>\n",
       "      <td>0</td>\n",
       "    </tr>\n",
       "    <tr>\n",
       "      <th>ENSMUSG00000103377</th>\n",
       "      <td>0</td>\n",
       "      <td>0</td>\n",
       "      <td>0</td>\n",
       "      <td>0</td>\n",
       "      <td>0</td>\n",
       "      <td>0</td>\n",
       "      <td>0</td>\n",
       "      <td>0</td>\n",
       "      <td>0</td>\n",
       "      <td>0</td>\n",
       "      <td>0</td>\n",
       "      <td>0</td>\n",
       "      <td>0</td>\n",
       "      <td>0</td>\n",
       "      <td>0</td>\n",
       "      <td>0</td>\n",
       "      <td>0</td>\n",
       "    </tr>\n",
       "  </tbody>\n",
       "</table>\n",
       "</div>"
      ],
      "text/plain": [
       "                    KO_0.1  KO_0.2  KO_0.3  KO_4.1  KO_4.2  KO_4.3  KO_8.1  \\\n",
       "ENSMUSG00000102693       0       0       0       0       0       0       0   \n",
       "ENSMUSG00000064842       0       0       0       0       0       0       0   \n",
       "ENSMUSG00000051951       0       0       1       0       0       0       0   \n",
       "ENSMUSG00000102851       0       0       0       0       0       0       0   \n",
       "ENSMUSG00000103377       0       0       0       0       0       0       0   \n",
       "\n",
       "                    KO_8.2  KO_8.3  WT_0.1  WT_0.2  WT_0.3  WT_4.1  WT_4.2  \\\n",
       "ENSMUSG00000102693       0       0       0       0       0       0       0   \n",
       "ENSMUSG00000064842       0       0       0       0       0       0       0   \n",
       "ENSMUSG00000051951       0       0       0       0       0       0       0   \n",
       "ENSMUSG00000102851       0       0       0       0       0       0       0   \n",
       "ENSMUSG00000103377       0       0       0       0       0       0       0   \n",
       "\n",
       "                    WT_8.1  WT_8.2  WT_8.3  \n",
       "ENSMUSG00000102693       0       0       0  \n",
       "ENSMUSG00000064842       0       0       0  \n",
       "ENSMUSG00000051951       0       1       0  \n",
       "ENSMUSG00000102851       0       0       0  \n",
       "ENSMUSG00000103377       0       0       0  "
      ]
     },
     "execution_count": 3,
     "metadata": {},
     "output_type": "execute_result"
    }
   ],
   "source": [
    "import pandas as pd\n",
    "\n",
    "df = pd.read_csv(\"documents/GSE246743_raw_counts.csv\", index_col=0)\n",
    "df = df.head(10)\n",
    "df.head()"
   ]
  },
  {
   "cell_type": "code",
   "execution_count": 4,
   "metadata": {},
   "outputs": [
    {
     "data": {
      "text/html": [
       "<div>\n",
       "<style scoped>\n",
       "    .dataframe tbody tr th:only-of-type {\n",
       "        vertical-align: middle;\n",
       "    }\n",
       "\n",
       "    .dataframe tbody tr th {\n",
       "        vertical-align: top;\n",
       "    }\n",
       "\n",
       "    .dataframe thead th {\n",
       "        text-align: right;\n",
       "    }\n",
       "</style>\n",
       "<table border=\"1\" class=\"dataframe\">\n",
       "  <thead>\n",
       "    <tr style=\"text-align: right;\">\n",
       "      <th></th>\n",
       "      <th>ENSMUSG00000102693</th>\n",
       "      <th>ENSMUSG00000064842</th>\n",
       "      <th>ENSMUSG00000051951</th>\n",
       "      <th>ENSMUSG00000102851</th>\n",
       "      <th>ENSMUSG00000103377</th>\n",
       "      <th>ENSMUSG00000104017</th>\n",
       "      <th>ENSMUSG00000103025</th>\n",
       "      <th>ENSMUSG00000089699</th>\n",
       "      <th>ENSMUSG00000103201</th>\n",
       "      <th>ENSMUSG00000103147</th>\n",
       "    </tr>\n",
       "  </thead>\n",
       "  <tbody>\n",
       "    <tr>\n",
       "      <th>KO_0.1</th>\n",
       "      <td>0</td>\n",
       "      <td>0</td>\n",
       "      <td>0</td>\n",
       "      <td>0</td>\n",
       "      <td>0</td>\n",
       "      <td>0</td>\n",
       "      <td>0</td>\n",
       "      <td>0</td>\n",
       "      <td>0</td>\n",
       "      <td>0</td>\n",
       "    </tr>\n",
       "    <tr>\n",
       "      <th>KO_0.2</th>\n",
       "      <td>0</td>\n",
       "      <td>0</td>\n",
       "      <td>0</td>\n",
       "      <td>0</td>\n",
       "      <td>0</td>\n",
       "      <td>0</td>\n",
       "      <td>0</td>\n",
       "      <td>0</td>\n",
       "      <td>0</td>\n",
       "      <td>0</td>\n",
       "    </tr>\n",
       "    <tr>\n",
       "      <th>KO_0.3</th>\n",
       "      <td>0</td>\n",
       "      <td>0</td>\n",
       "      <td>1</td>\n",
       "      <td>0</td>\n",
       "      <td>0</td>\n",
       "      <td>0</td>\n",
       "      <td>0</td>\n",
       "      <td>0</td>\n",
       "      <td>0</td>\n",
       "      <td>0</td>\n",
       "    </tr>\n",
       "    <tr>\n",
       "      <th>KO_4.1</th>\n",
       "      <td>0</td>\n",
       "      <td>0</td>\n",
       "      <td>0</td>\n",
       "      <td>0</td>\n",
       "      <td>0</td>\n",
       "      <td>0</td>\n",
       "      <td>0</td>\n",
       "      <td>0</td>\n",
       "      <td>0</td>\n",
       "      <td>0</td>\n",
       "    </tr>\n",
       "    <tr>\n",
       "      <th>KO_4.2</th>\n",
       "      <td>0</td>\n",
       "      <td>0</td>\n",
       "      <td>0</td>\n",
       "      <td>0</td>\n",
       "      <td>0</td>\n",
       "      <td>0</td>\n",
       "      <td>0</td>\n",
       "      <td>0</td>\n",
       "      <td>0</td>\n",
       "      <td>0</td>\n",
       "    </tr>\n",
       "  </tbody>\n",
       "</table>\n",
       "</div>"
      ],
      "text/plain": [
       "        ENSMUSG00000102693  ENSMUSG00000064842  ENSMUSG00000051951  \\\n",
       "KO_0.1                   0                   0                   0   \n",
       "KO_0.2                   0                   0                   0   \n",
       "KO_0.3                   0                   0                   1   \n",
       "KO_4.1                   0                   0                   0   \n",
       "KO_4.2                   0                   0                   0   \n",
       "\n",
       "        ENSMUSG00000102851  ENSMUSG00000103377  ENSMUSG00000104017  \\\n",
       "KO_0.1                   0                   0                   0   \n",
       "KO_0.2                   0                   0                   0   \n",
       "KO_0.3                   0                   0                   0   \n",
       "KO_4.1                   0                   0                   0   \n",
       "KO_4.2                   0                   0                   0   \n",
       "\n",
       "        ENSMUSG00000103025  ENSMUSG00000089699  ENSMUSG00000103201  \\\n",
       "KO_0.1                   0                   0                   0   \n",
       "KO_0.2                   0                   0                   0   \n",
       "KO_0.3                   0                   0                   0   \n",
       "KO_4.1                   0                   0                   0   \n",
       "KO_4.2                   0                   0                   0   \n",
       "\n",
       "        ENSMUSG00000103147  \n",
       "KO_0.1                   0  \n",
       "KO_0.2                   0  \n",
       "KO_0.3                   0  \n",
       "KO_4.1                   0  \n",
       "KO_4.2                   0  "
      ]
     },
     "execution_count": 4,
     "metadata": {},
     "output_type": "execute_result"
    }
   ],
   "source": [
    "df = df.T\n",
    "df.head()"
   ]
  },
  {
   "cell_type": "code",
   "execution_count": null,
   "metadata": {},
   "outputs": [],
   "source": [
    "# !pip install langchain-experimental"
   ]
  },
  {
   "cell_type": "code",
   "execution_count": 5,
   "metadata": {},
   "outputs": [
    {
     "data": {
      "text/plain": [
       "0.11764705882352941"
      ]
     },
     "execution_count": 5,
     "metadata": {},
     "output_type": "execute_result"
    }
   ],
   "source": [
    "import pandas as pd\n",
    "from langchain_experimental.tools import PythonAstREPLTool\n",
    "\n",
    "tool = PythonAstREPLTool(locals={\"df\": df})\n",
    "tool.invoke(\"df['ENSMUSG00000051951'].mean()\")"
   ]
  },
  {
   "cell_type": "code",
   "execution_count": 6,
   "metadata": {},
   "outputs": [
    {
     "data": {
      "text/plain": [
       "'python_repl_ast'"
      ]
     },
     "execution_count": 6,
     "metadata": {},
     "output_type": "execute_result"
    }
   ],
   "source": [
    "tool.name"
   ]
  },
  {
   "cell_type": "code",
   "execution_count": 7,
   "metadata": {},
   "outputs": [
    {
     "data": {
      "text/plain": [
       "AIMessage(content='', additional_kwargs={'tool_calls': [{'id': 'call_1IAeliANKPH4HKFZkqux2DJ0', 'function': {'arguments': '{\"query\":\"df[\\'ENSMUSG00000051951\\'].std()\"}', 'name': 'python_repl_ast'}, 'type': 'function'}]})"
      ]
     },
     "execution_count": 7,
     "metadata": {},
     "output_type": "execute_result"
    }
   ],
   "source": [
    "llm_with_tools = llm.bind_tools([tool], tool_choice=tool.name)\n",
    "llm_with_tools.invoke(\n",
    "    \"I have a dataframe 'df' and want to know the standard deviation of 'ENSMUSG00000051951' column\"\n",
    ")"
   ]
  },
  {
   "cell_type": "code",
   "execution_count": 8,
   "metadata": {},
   "outputs": [
    {
     "data": {
      "text/plain": [
       "[{'query': \"df['ENSMUSG00000051951'].std()\"}]"
      ]
     },
     "execution_count": 8,
     "metadata": {},
     "output_type": "execute_result"
    }
   ],
   "source": [
    "from langchain.output_parsers.openai_tools import JsonOutputKeyToolsParser\n",
    "\n",
    "parser = JsonOutputKeyToolsParser(key_name=tool.name, return_single=True)\n",
    "\n",
    "(llm_with_tools | parser).invoke(\n",
    "    \"I have a dataframe 'df' and want to know the standard deviation of 'ENSMUSG00000051951' column\"\n",
    ")"
   ]
  },
  {
   "cell_type": "code",
   "execution_count": 9,
   "metadata": {},
   "outputs": [],
   "source": [
    "resp = (llm_with_tools | parser).invoke(\n",
    "    \"I have a dataframe 'df' and want to know the standard deviation of 'ENSMUSG00000051951' column\"\n",
    ")"
   ]
  },
  {
   "cell_type": "code",
   "execution_count": 10,
   "metadata": {},
   "outputs": [
    {
     "data": {
      "text/plain": [
       "\"df['ENSMUSG00000051951'].std()\""
      ]
     },
     "execution_count": 10,
     "metadata": {},
     "output_type": "execute_result"
    }
   ],
   "source": [
    "resp[0]['query']"
   ]
  },
  {
   "cell_type": "code",
   "execution_count": 11,
   "metadata": {},
   "outputs": [
    {
     "data": {
      "text/plain": [
       "0.3321055820775357"
      ]
     },
     "execution_count": 11,
     "metadata": {},
     "output_type": "execute_result"
    }
   ],
   "source": [
    "tool.invoke(resp[0]['query'])"
   ]
  },
  {
   "cell_type": "code",
   "execution_count": null,
   "metadata": {},
   "outputs": [],
   "source": [
    "# !pip install tabulate"
   ]
  },
  {
   "cell_type": "code",
   "execution_count": 12,
   "metadata": {},
   "outputs": [
    {
     "data": {
      "text/html": [
       "<div>\n",
       "<style scoped>\n",
       "    .dataframe tbody tr th:only-of-type {\n",
       "        vertical-align: middle;\n",
       "    }\n",
       "\n",
       "    .dataframe tbody tr th {\n",
       "        vertical-align: top;\n",
       "    }\n",
       "\n",
       "    .dataframe thead th {\n",
       "        text-align: right;\n",
       "    }\n",
       "</style>\n",
       "<table border=\"1\" class=\"dataframe\">\n",
       "  <thead>\n",
       "    <tr style=\"text-align: right;\">\n",
       "      <th></th>\n",
       "      <th>ENSMUSG00000102693</th>\n",
       "      <th>ENSMUSG00000064842</th>\n",
       "      <th>ENSMUSG00000051951</th>\n",
       "      <th>ENSMUSG00000102851</th>\n",
       "      <th>ENSMUSG00000103377</th>\n",
       "      <th>ENSMUSG00000104017</th>\n",
       "      <th>ENSMUSG00000103025</th>\n",
       "      <th>ENSMUSG00000089699</th>\n",
       "      <th>ENSMUSG00000103201</th>\n",
       "      <th>ENSMUSG00000103147</th>\n",
       "    </tr>\n",
       "  </thead>\n",
       "  <tbody>\n",
       "    <tr>\n",
       "      <th>KO_0.1</th>\n",
       "      <td>0</td>\n",
       "      <td>0</td>\n",
       "      <td>0</td>\n",
       "      <td>0</td>\n",
       "      <td>0</td>\n",
       "      <td>0</td>\n",
       "      <td>0</td>\n",
       "      <td>0</td>\n",
       "      <td>0</td>\n",
       "      <td>0</td>\n",
       "    </tr>\n",
       "    <tr>\n",
       "      <th>KO_0.2</th>\n",
       "      <td>0</td>\n",
       "      <td>0</td>\n",
       "      <td>0</td>\n",
       "      <td>0</td>\n",
       "      <td>0</td>\n",
       "      <td>0</td>\n",
       "      <td>0</td>\n",
       "      <td>0</td>\n",
       "      <td>0</td>\n",
       "      <td>0</td>\n",
       "    </tr>\n",
       "    <tr>\n",
       "      <th>KO_0.3</th>\n",
       "      <td>0</td>\n",
       "      <td>0</td>\n",
       "      <td>1</td>\n",
       "      <td>0</td>\n",
       "      <td>0</td>\n",
       "      <td>0</td>\n",
       "      <td>0</td>\n",
       "      <td>0</td>\n",
       "      <td>0</td>\n",
       "      <td>0</td>\n",
       "    </tr>\n",
       "    <tr>\n",
       "      <th>KO_4.1</th>\n",
       "      <td>0</td>\n",
       "      <td>0</td>\n",
       "      <td>0</td>\n",
       "      <td>0</td>\n",
       "      <td>0</td>\n",
       "      <td>0</td>\n",
       "      <td>0</td>\n",
       "      <td>0</td>\n",
       "      <td>0</td>\n",
       "      <td>0</td>\n",
       "    </tr>\n",
       "    <tr>\n",
       "      <th>KO_4.2</th>\n",
       "      <td>0</td>\n",
       "      <td>0</td>\n",
       "      <td>0</td>\n",
       "      <td>0</td>\n",
       "      <td>0</td>\n",
       "      <td>0</td>\n",
       "      <td>0</td>\n",
       "      <td>0</td>\n",
       "      <td>0</td>\n",
       "      <td>0</td>\n",
       "    </tr>\n",
       "  </tbody>\n",
       "</table>\n",
       "</div>"
      ],
      "text/plain": [
       "        ENSMUSG00000102693  ENSMUSG00000064842  ENSMUSG00000051951  \\\n",
       "KO_0.1                   0                   0                   0   \n",
       "KO_0.2                   0                   0                   0   \n",
       "KO_0.3                   0                   0                   1   \n",
       "KO_4.1                   0                   0                   0   \n",
       "KO_4.2                   0                   0                   0   \n",
       "\n",
       "        ENSMUSG00000102851  ENSMUSG00000103377  ENSMUSG00000104017  \\\n",
       "KO_0.1                   0                   0                   0   \n",
       "KO_0.2                   0                   0                   0   \n",
       "KO_0.3                   0                   0                   0   \n",
       "KO_4.1                   0                   0                   0   \n",
       "KO_4.2                   0                   0                   0   \n",
       "\n",
       "        ENSMUSG00000103025  ENSMUSG00000089699  ENSMUSG00000103201  \\\n",
       "KO_0.1                   0                   0                   0   \n",
       "KO_0.2                   0                   0                   0   \n",
       "KO_0.3                   0                   0                   0   \n",
       "KO_4.1                   0                   0                   0   \n",
       "KO_4.2                   0                   0                   0   \n",
       "\n",
       "        ENSMUSG00000103147  \n",
       "KO_0.1                   0  \n",
       "KO_0.2                   0  \n",
       "KO_0.3                   0  \n",
       "KO_4.1                   0  \n",
       "KO_4.2                   0  "
      ]
     },
     "execution_count": 12,
     "metadata": {},
     "output_type": "execute_result"
    }
   ],
   "source": [
    "df.head()"
   ]
  },
  {
   "cell_type": "code",
   "execution_count": 13,
   "metadata": {},
   "outputs": [],
   "source": [
    "system = f\"\"\"You have access to a pandas dataframe `df`. \\\n",
    "Here is the output of `df.head().to_markdown()`:\n",
    "\n",
    "```\n",
    "{df.head().to_markdown()}\n",
    "```\n",
    "\n",
    "Given a user question, write the Python code to answer it. \\\n",
    "Return ONLY the valid Python code and nothing else. \\\n",
    "Don't assume you have access to any libraries other than built-in Python ones and pandas.\"\"\"\n",
    "\n",
    "from langchain_core.prompts import ChatPromptTemplate\n",
    "prompt = ChatPromptTemplate.from_messages([(\"system\", system), (\"human\", \"{question}\")])\n",
    "\n"
   ]
  },
  {
   "cell_type": "code",
   "execution_count": 14,
   "metadata": {},
   "outputs": [
    {
     "data": {
      "text/plain": [
       "ChatPromptTemplate(input_variables=['question'], messages=[SystemMessagePromptTemplate(prompt=PromptTemplate(input_variables=[], template=\"You have access to a pandas dataframe `df`. Here is the output of `df.head().to_markdown()`:\\n\\n```\\n|        |   ENSMUSG00000102693 |   ENSMUSG00000064842 |   ENSMUSG00000051951 |   ENSMUSG00000102851 |   ENSMUSG00000103377 |   ENSMUSG00000104017 |   ENSMUSG00000103025 |   ENSMUSG00000089699 |   ENSMUSG00000103201 |   ENSMUSG00000103147 |\\n|:-------|---------------------:|---------------------:|---------------------:|---------------------:|---------------------:|---------------------:|---------------------:|---------------------:|---------------------:|---------------------:|\\n| KO_0.1 |                    0 |                    0 |                    0 |                    0 |                    0 |                    0 |                    0 |                    0 |                    0 |                    0 |\\n| KO_0.2 |                    0 |                    0 |                    0 |                    0 |                    0 |                    0 |                    0 |                    0 |                    0 |                    0 |\\n| KO_0.3 |                    0 |                    0 |                    1 |                    0 |                    0 |                    0 |                    0 |                    0 |                    0 |                    0 |\\n| KO_4.1 |                    0 |                    0 |                    0 |                    0 |                    0 |                    0 |                    0 |                    0 |                    0 |                    0 |\\n| KO_4.2 |                    0 |                    0 |                    0 |                    0 |                    0 |                    0 |                    0 |                    0 |                    0 |                    0 |\\n```\\n\\nGiven a user question, write the Python code to answer it. Return ONLY the valid Python code and nothing else. Don't assume you have access to any libraries other than built-in Python ones and pandas.\")), HumanMessagePromptTemplate(prompt=PromptTemplate(input_variables=['question'], template='{question}'))])"
      ]
     },
     "execution_count": 14,
     "metadata": {},
     "output_type": "execute_result"
    }
   ],
   "source": [
    "prompt"
   ]
  },
  {
   "cell_type": "code",
   "execution_count": 15,
   "metadata": {},
   "outputs": [
    {
     "data": {
      "text/plain": [
       "[{'query': \"df['ENSMUSG00000051951'].std()\"}]"
      ]
     },
     "execution_count": 15,
     "metadata": {},
     "output_type": "execute_result"
    }
   ],
   "source": [
    "code_chain = prompt | llm_with_tools | parser\n",
    "\n",
    "code_chain.invoke({\"question\": \"What's the standard deviation of ENSMUSG00000051951?\"})"
   ]
  },
  {
   "cell_type": "code",
   "execution_count": 16,
   "metadata": {},
   "outputs": [],
   "source": [
    "def analyze_df(question):\n",
    "    chain = (prompt | llm_with_tools | parser) \n",
    "    resp = chain.invoke({\"question\": question})\n",
    "    return tool.invoke(resp[0]['query'])"
   ]
  },
  {
   "cell_type": "code",
   "execution_count": 17,
   "metadata": {},
   "outputs": [
    {
     "data": {
      "text/plain": [
       "0.3321055820775357"
      ]
     },
     "execution_count": 17,
     "metadata": {},
     "output_type": "execute_result"
    }
   ],
   "source": [
    "analyze_df(\"What's the standard deviation of ENSMUSG00000051951?\")"
   ]
  },
  {
   "cell_type": "code",
   "execution_count": 18,
   "metadata": {},
   "outputs": [
    {
     "data": {
      "text/plain": [
       "0.11764705882352941"
      ]
     },
     "execution_count": 18,
     "metadata": {},
     "output_type": "execute_result"
    }
   ],
   "source": [
    "analyze_df(\"What's the mean of ENSMUSG00000051951?\")"
   ]
  },
  {
   "cell_type": "code",
   "execution_count": null,
   "metadata": {},
   "outputs": [],
   "source": []
  }
 ],
 "metadata": {
  "kernelspec": {
   "display_name": "Python 3",
   "language": "python",
   "name": "python3"
  },
  "language_info": {
   "codemirror_mode": {
    "name": "ipython",
    "version": 3
   },
   "file_extension": ".py",
   "mimetype": "text/x-python",
   "name": "python",
   "nbconvert_exporter": "python",
   "pygments_lexer": "ipython3",
   "version": "3.11.5"
  }
 },
 "nbformat": 4,
 "nbformat_minor": 2
}
