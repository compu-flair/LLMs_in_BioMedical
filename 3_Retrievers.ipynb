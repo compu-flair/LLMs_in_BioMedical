{
 "cells": [
  {
   "cell_type": "code",
   "execution_count": 34,
   "metadata": {},
   "outputs": [],
   "source": [
    "question = \"what percentage of patients have pathogenic germline gene variants?\""
   ]
  },
  {
   "cell_type": "code",
   "execution_count": 35,
   "metadata": {},
   "outputs": [],
   "source": [
    "# !pip install pypdf\n",
    "from langchain_community.document_loaders import PyPDFLoader"
   ]
  },
  {
   "cell_type": "code",
   "execution_count": 36,
   "metadata": {},
   "outputs": [],
   "source": [
    "loader = PyPDFLoader(\"documents/nihms-1828057.pdf\")"
   ]
  },
  {
   "cell_type": "code",
   "execution_count": 37,
   "metadata": {},
   "outputs": [],
   "source": [
    "pages = loader.load_and_split()"
   ]
  },
  {
   "cell_type": "code",
   "execution_count": 38,
   "metadata": {},
   "outputs": [],
   "source": [
    "from langchain.text_splitter import RecursiveCharacterTextSplitter\n",
    "\n",
    "text_splitter = RecursiveCharacterTextSplitter(chunk_size=1000, chunk_overlap=20)"
   ]
  },
  {
   "cell_type": "code",
   "execution_count": 39,
   "metadata": {},
   "outputs": [],
   "source": [
    "documents = text_splitter.split_documents(pages)"
   ]
  },
  {
   "cell_type": "code",
   "execution_count": 40,
   "metadata": {},
   "outputs": [
    {
     "name": "stdout",
     "output_type": "stream",
     "text": [
      "28 vs 88\n"
     ]
    }
   ],
   "source": [
    "print(f\"{len(pages)} vs {len(documents)}\")"
   ]
  },
  {
   "cell_type": "code",
   "execution_count": 41,
   "metadata": {},
   "outputs": [],
   "source": [
    "import os\n",
    "from dotenv import load_dotenv\n",
    "\n",
    "load_dotenv(\".env\")\n",
    "openai_api_key = os.getenv(\"openai_api_key\")"
   ]
  },
  {
   "cell_type": "code",
   "execution_count": 42,
   "metadata": {},
   "outputs": [],
   "source": [
    "from langchain_openai import OpenAIEmbeddings\n",
    "\n",
    "embeddings = OpenAIEmbeddings(openai_api_key=openai_api_key)"
   ]
  },
  {
   "cell_type": "code",
   "execution_count": 43,
   "metadata": {},
   "outputs": [],
   "source": [
    "# !pip install faiss-cpu\n",
    "from langchain_community.vectorstores import FAISS\n",
    "vector = FAISS.from_documents(documents, embeddings)"
   ]
  },
  {
   "cell_type": "code",
   "execution_count": 60,
   "metadata": {},
   "outputs": [],
   "source": [
    "from langchain_community.vectorstores import Chroma\n",
    "\n",
    "vector = Chroma.from_documents(documents, embeddings)"
   ]
  },
  {
   "cell_type": "code",
   "execution_count": 61,
   "metadata": {},
   "outputs": [
    {
     "data": {
      "text/plain": [
       "[(Document(page_content='to increasing rates of obesity and diabetes, which are potentially modifiable risk factors for \\nPDAC.\\nAbout 3.8% to 9.7% of patients with PDAC have pathogenic germline gene variants \\nthat increase susceptibility to PDAC. These variants occur mostly in DNA damage repair \\ngenes.25–27 The most common variants in PDAC include BRCA2 , BRCA1  (hereditary breast \\nand ovary cancer syndrome), and ATM  (ataxia telangiectasia syndrome). Germline BRCA2 \\nvariants are associated with an increased risk for PDAC (OR, 9.07 [95% CI, 6.33–12.98]) \\nmore commonly than BRCA1  (OR, 2.95 [95% CI, 1.49–5.60]) or ATM  variants (OR, \\n8.96 [95% CI, 6.12–12.98]).28 Uncommon (1% of patients with PDAC) but therapeutically \\nimportant inheritable germline variants also occur in PDAC in mismatch repair deficiency \\ngenes MLH1 , MSH2 , MSH6 , and PMS2  as part of Lynch syndrome.29 In 2019, the National \\nComprehensive Cancer Network guidelines recommended that all patients newly diagnosed', metadata={'page': 3, 'source': 'documents/nihms-1828057.pdf'}),\n",
       "  0.28210222721099854),\n",
       " (Document(page_content='to increasing rates of obesity and diabetes, which are potentially modifiable risk factors for \\nPDAC.\\nAbout 3.8% to 9.7% of patients with PDAC have pathogenic germline gene variants \\nthat increase susceptibility to PDAC. These variants occur mostly in DNA damage repair \\ngenes.25–27 The most common variants in PDAC include BRCA2 , BRCA1  (hereditary breast \\nand ovary cancer syndrome), and ATM  (ataxia telangiectasia syndrome). Germline BRCA2 \\nvariants are associated with an increased risk for PDAC (OR, 9.07 [95% CI, 6.33–12.98]) \\nmore commonly than BRCA1  (OR, 2.95 [95% CI, 1.49–5.60]) or ATM  variants (OR, \\n8.96 [95% CI, 6.12–12.98]).28 Uncommon (1% of patients with PDAC) but therapeutically \\nimportant inheritable germline variants also occur in PDAC in mismatch repair deficiency \\ngenes MLH1 , MSH2 , MSH6 , and PMS2  as part of Lynch syndrome.29 In 2019, the National \\nComprehensive Cancer Network guidelines recommended that all patients newly diagnosed', metadata={'page': 3, 'source': 'documents/nihms-1828057.pdf'}),\n",
       "  0.28210392594337463),\n",
       " (Document(page_content='Hereditary breast and ovary cancer syndrome ( BRCA1/2 , PALB2 ; 5%–9%)\\nAtaxia-telangiectasia ( ATM ; approximately 3%–4%)\\nFamilial atypical multiple mole and melanoma syndrome ( CDKN2A , p16; <1%)\\nLynch syndrome ( MLH1 , MSH2 , MSH6 , PMS2 , EPCAM ; <1%)\\nHereditary pancreatitis ( PRSS1 , SPINK1 ; <1%)\\nPeutz-Jeghers syndrome ( STK11 ; <1%)\\nAbbreviation: AJCC, American Joint Committee on Cancer.\\naPercentages indicate the frequency per 100 unselected patients diagnosed with pancreas cancer.Park et al. Page 18\\nJAMA . Author manuscript; available in PMC 2022 August 09.\\nAuthor Manuscript Author Manuscript Author Manuscript Author Manuscript', metadata={'page': 17, 'source': 'documents/nihms-1828057.pdf'}),\n",
       "  0.3213544189929962),\n",
       " (Document(page_content='Hereditary breast and ovary cancer syndrome ( BRCA1/2 , PALB2 ; 5%–9%)\\nAtaxia-telangiectasia ( ATM ; approximately 3%–4%)\\nFamilial atypical multiple mole and melanoma syndrome ( CDKN2A , p16; <1%)\\nLynch syndrome ( MLH1 , MSH2 , MSH6 , PMS2 , EPCAM ; <1%)\\nHereditary pancreatitis ( PRSS1 , SPINK1 ; <1%)\\nPeutz-Jeghers syndrome ( STK11 ; <1%)\\nAbbreviation: AJCC, American Joint Committee on Cancer.\\naPercentages indicate the frequency per 100 unselected patients diagnosed with pancreas cancer.Park et al. Page 18\\nJAMA . Author manuscript; available in PMC 2022 August 09.\\nAuthor Manuscript Author Manuscript Author Manuscript Author Manuscript', metadata={'page': 17, 'source': 'documents/nihms-1828057.pdf'}),\n",
       "  0.3214324116706848)]"
      ]
     },
     "execution_count": 61,
     "metadata": {},
     "output_type": "execute_result"
    }
   ],
   "source": [
    "vector.similarity_search_with_score(question)"
   ]
  },
  {
   "cell_type": "code",
   "execution_count": 70,
   "metadata": {},
   "outputs": [],
   "source": [
    "from langchain_core.prompts import ChatPromptTemplate\n",
    "\n",
    "prompt = ChatPromptTemplate.from_template(\"\"\"\n",
    "Answer the following question based on the provided context. \n",
    "If the context did not answer the question, do the followings:\n",
    "1. mention that you could not find exact answer,\n",
    "2. provide a summary of the context. \n",
    "In any case return a summary of the context.                                           \n",
    "                                          \n",
    "Context:\n",
    "{context}\n",
    "\n",
    "Question:\n",
    "{question}\n",
    "\n",
    "Your response:\n",
    "                                                                                                                                                                        \n",
    "\"\"\")"
   ]
  },
  {
   "cell_type": "code",
   "execution_count": 71,
   "metadata": {},
   "outputs": [],
   "source": [
    "from langchain_openai import ChatOpenAI\n",
    "\n",
    "llm = ChatOpenAI(openai_api_key=openai_api_key)"
   ]
  },
  {
   "cell_type": "code",
   "execution_count": 72,
   "metadata": {},
   "outputs": [],
   "source": [
    "from langchain_core.output_parsers import StrOutputParser\n",
    "output_parser = StrOutputParser()"
   ]
  },
  {
   "cell_type": "code",
   "execution_count": 73,
   "metadata": {},
   "outputs": [],
   "source": [
    "retriever = vector.as_retriever()"
   ]
  },
  {
   "cell_type": "code",
   "execution_count": 74,
   "metadata": {},
   "outputs": [],
   "source": [
    "from langchain_core.runnables import RunnableParallel, RunnablePassthrough\n",
    "\n",
    "setup_and_retrieval = RunnableParallel(\n",
    "    {\"context\": retriever, \"question\": RunnablePassthrough()}\n",
    ")"
   ]
  },
  {
   "cell_type": "code",
   "execution_count": 75,
   "metadata": {},
   "outputs": [],
   "source": [
    "chain = setup_and_retrieval | prompt | llm | output_parser"
   ]
  },
  {
   "cell_type": "code",
   "execution_count": 76,
   "metadata": {},
   "outputs": [],
   "source": [
    "response = chain.invoke(question)"
   ]
  },
  {
   "cell_type": "code",
   "execution_count": 77,
   "metadata": {},
   "outputs": [
    {
     "name": "stdout",
     "output_type": "stream",
     "text": [
      "question:\n",
      "what percentage of patients have pathogenic germline gene variants?\n"
     ]
    }
   ],
   "source": [
    "print(f\"question:\\n{question}\")"
   ]
  },
  {
   "cell_type": "code",
   "execution_count": 78,
   "metadata": {},
   "outputs": [
    {
     "name": "stdout",
     "output_type": "stream",
     "text": [
      "Based on the provided context, it is stated that about 3.8% to 9.7% of patients with PDAC (pancreatic ductal adenocarcinoma) have pathogenic germline gene variants.\n"
     ]
    }
   ],
   "source": [
    "print(response)"
   ]
  },
  {
   "cell_type": "markdown",
   "metadata": {},
   "source": [
    "Based on the provided context, it is stated that about 3.8% to 9.7% of patients with PDAC (pancreatic ductal adenocarcinoma) have pathogenic germline gene variants."
   ]
  },
  {
   "cell_type": "code",
   "execution_count": 79,
   "metadata": {},
   "outputs": [],
   "source": [
    "!open documents/nihms-1*.pdf"
   ]
  },
  {
   "cell_type": "code",
   "execution_count": null,
   "metadata": {},
   "outputs": [],
   "source": []
  }
 ],
 "metadata": {
  "kernelspec": {
   "display_name": "Python 3",
   "language": "python",
   "name": "python3"
  },
  "language_info": {
   "codemirror_mode": {
    "name": "ipython",
    "version": 3
   },
   "file_extension": ".py",
   "mimetype": "text/x-python",
   "name": "python",
   "nbconvert_exporter": "python",
   "pygments_lexer": "ipython3",
   "version": "3.11.5"
  }
 },
 "nbformat": 4,
 "nbformat_minor": 2
}
