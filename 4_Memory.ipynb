{
 "cells": [
  {
   "cell_type": "markdown",
   "metadata": {},
   "source": [
    "#### PyPDFLoader\n",
    "provides functionality for loading PDF documents within the LangChain framework"
   ]
  },
  {
   "cell_type": "code",
   "execution_count": 1,
   "metadata": {},
   "outputs": [],
   "source": [
    "# !pip install pypdf\n",
    "from langchain_community.document_loaders import PyPDFLoader"
   ]
  },
  {
   "cell_type": "markdown",
   "metadata": {},
   "source": [
    "Let's first take a look at the pdf document"
   ]
  },
  {
   "cell_type": "code",
   "execution_count": 2,
   "metadata": {},
   "outputs": [],
   "source": [
    "!open documents/nihms-1828057.pdf"
   ]
  },
  {
   "cell_type": "markdown",
   "metadata": {},
   "source": [
    "This line of the code initializes the loader."
   ]
  },
  {
   "cell_type": "code",
   "execution_count": 3,
   "metadata": {},
   "outputs": [],
   "source": [
    "loader = PyPDFLoader(\"documents/nihms-1828057.pdf\")"
   ]
  },
  {
   "cell_type": "markdown",
   "metadata": {},
   "source": [
    "Load the PDF using pypdf into the \"pages\" variable. \n",
    "\n",
    "Each page is stored as a separate chunk. It also stores page numbers in metadata."
   ]
  },
  {
   "cell_type": "code",
   "execution_count": 4,
   "metadata": {},
   "outputs": [],
   "source": [
    "pages = loader.load_and_split()"
   ]
  },
  {
   "cell_type": "code",
   "execution_count": 5,
   "metadata": {},
   "outputs": [
    {
     "data": {
      "text/plain": [
       "[Document(page_content='Pancreatic Cancer: A Review\\nWungki Park, MD ,\\nDepartment of Medicine, Memorial Sloan Kettering Cancer Center, New York, New York\\nDavid M. Rubenstein Center for Pancreatic Cancer Research, New York, New York\\nDepartment of Medicine, Weill Cornell Medical College, New York, New York\\nParker Institute for Cancer Immunotherapy, San Francisco, California\\nAkhil Chawla, MD ,\\nDepartment of Surgery, Northwestern Medicine Regional Medical Group, Northwestern University \\nFeinberg School of Medicine, Chicago, Illinois\\nRobert H. Lurie Comprehensive Cancer Center, Chicago, Illinois\\nEileen M. O’Reilly, MD\\nDepartment of Medicine, Memorial Sloan Kettering Cancer Center, New York, New York\\nDavid M. Rubenstein Center for Pancreatic Cancer Research, New York, New York\\nDepartment of Medicine, Weill Cornell Medical College, New York, New York\\nAbstract\\nIMPORTANCE— Pancreatic ductal adenocarcinoma (PDAC) is a relatively uncommon cancer, \\nwith approximately 60 430 new diagnoses expected in 2021 in the US. The incidence of PDAC \\nis increasing by 0.5% to 1.0% per year, and it is projected to become the second-leading cause of \\ncancer-related mortality by 2030.\\nOBSERVATIONS— Effective screening is not available for PDAC, and most patients \\npresent with locally advanced (30%–35%) or metastatic (50%–55%) disease at diagnosis. A \\nmultidisciplinary management approach is recommended. Localized pancreas cancer includes \\nresectable, borderline resectable (localized and involving major vascular structures), and locally \\nadvanced (unresectable) disease based on the degree of arterial and venous involvement \\nby tumor, typically of the superior mesenteric vessels. For patients with resectable disease \\nat presentation (10%–15%), surgery followed by adjuvant chemotherapy with FOLFIRINOX \\nCorresponding Author:  Eileen M. O’Reilly, MD, Memorial Sloan Kettering Cancer Center, 300 E 66th St, Office 1021, New York, \\nNY 10065 (oreillye@mskcc.org).\\nAuthor Contributions:  Dr O’Reilly had full access to all of the data in the study and takes responsibility for the integrity of the data \\nand the accuracy of the data analysis.\\nConcept and design:  All authors.\\nAcquisition, analysis, or interpretation of data:  All authors.\\nDrafting of the manuscript:  All authors.\\nCritical revision of the manuscript for important intellectual content:  All authors.\\nObtained funding:  Park, O’Reilly.\\nAdministrative, technical, or material support:  Park, O’Reilly.\\nSupervision:  O’Reilly.\\nOther - involved in writing:  Chawla.\\nHHS Public Access\\nAuthor manuscript\\nJAMA . Author manuscript; available in PMC 2022 August 09.\\nPublished in final edited form as:\\nJAMA . 2021 September 07; 326(9): 851–862. doi:10.1001/jama.2021.13027.\\nAuthor Manuscript Author Manuscript Author Manuscript Author Manuscript', metadata={'source': 'documents/nihms-1828057.pdf', 'page': 0}),\n",
       " Document(page_content='(fluorouracil, irinotecan, leucovorin, oxaliplatin) represents a standard therapeutic approach with \\nan anticipated median overall survival of 54.4 months, compared with 35 months for single-agent \\ngemcitabine (stratified hazard ratio for death, 0.64 [95% CI, 0.48–0.86]; P = .003). Neoadjuvant \\nsystemic therapy with or without radiation followed by evaluation for surgery is an accepted \\ntreatment approach for resectable and borderline resectable disease. For patients with locally \\nadvanced and unresectable disease due to extensive vascular involvement, systemic therapy \\nfollowed by radiation is an option for definitive locoregional disease control. For patients with \\nadvanced (locally advanced and metastatic) PDAC, multiagent chemotherapy regimens, including \\nFOLFIRINOX, gemcitabine/nab-paclitaxel, and nanoliposomal irinotecan/fluorouracil, all have \\na survival benefit of 2 to 6 months compared with a single-agent gemcitabine. For the 5% to \\n7% of patients with a BRCA  pathogenic germline variant and metastatic PDAC, olaparib, a \\npoly (adenosine diphosphate [ADB]-ribose) polymerase inhibitor, is a maintenance option that \\nimproves progression-free survival following initial platinum-based therapy.\\nCONCLUSIONS AND RELEVANCE— Approximately 60 000 new cases of PDAC are \\ndiagnosed per year, and approximately 50% of patients have advanced disease at diagnosis. The \\nincidence of PDAC is increasing. Currently available cytotoxic therapies for advanced disease \\nare modestly effective. For all patients, multidisciplinary management, comprehensive germline \\ntesting, and integrated supportive care are recommended.\\nApproximately 60 430 new diagnoses of pancreatic cancer are anticipated in the US in \\n2021.1 The incidence is rising at a rate of 0.5% to 1.0% per year, and pancreatic cancer \\nis projected to become the second-leading cause of cancer death by 2030 in the US.1,2 \\nPancreatic ductal adenocarcinoma (PDAC) accounts for the majority (90%)of pancreatic \\nneoplasms, and the other subtypes include acinar carcinoma, pancreaticoblastoma, and \\nneuroendocrine tumors. Most patients with pancreatic cancer present with nonspecific \\nsymptoms at an advanced stage with disease that is not amenable to curative surgery.1 \\nNo effective screening exists. The 5-year survival rate approached 10% for the first time in \\n2020, compared with 5.26% in 2000.1 The survival improvements have been modest and \\nattributed primarily to multiagent cytotoxic therapies.3–5 Recently, comprehensive germline \\nand somatic genomic sequencing became standard of care for small subgroups of patients \\nwith targeted treatment opportunities.6,7 Olaparib, a poly (adenosine diphosphate[ADB]-\\nribose) polymerase inhibitor, can prolong cancer control in patients with a BRCA1/2 \\npathogenic germline variant.8,9 This review summarizes current evidence regarding \\npathobiology, diagnosis, and management of PDAC.\\nMethods\\nA PubMed search was performed for English-language articles describing randomized \\nclinical trials, meta-analyses, and systematic reviews of pancreatic cancer published between \\nJanuary 1, 2010, and July 5, 2021. We identified 43 randomized clinical trials, 85 meta-\\nanalyses, and 171 systematic reviews. The authors selected articles for inclusion, prioritizing \\nrecent randomized clinical trials of higher quality based on rigor of study design, adequate \\nsample size, and long-term follow-up. A total of 24 randomized clinical trials, 4 meta-\\nanalyses, 3 systematic reviews, 5 guideline recommendations, and 37 observational and \\ncohort studies, including publications prior to 2010, were included.Park et al. Page 2\\nJAMA . Author manuscript; available in PMC 2022 August 09.\\nAuthor Manuscript Author Manuscript Author Manuscript Author Manuscript', metadata={'source': 'documents/nihms-1828057.pdf', 'page': 1}),\n",
       " Document(page_content='Epidemiology and Screening\\nPDAC is the third-leading cause of cancer mortality in the US and the seventh-leading cause \\nworldwide (Box).10The median age at diagnosis in the US is 71 years, and PDAC is slightly \\nmore common in men than in women (5.5 vs 4.0 per 100 000 individuals).11At presentation, \\n50% of patients have metastatic disease, 10% to 15% have localized disease amenable to \\nsurgery, and the remainder (30%–35%) have locally advanced mostly unresectable disease \\ndue to the extent of tumor-vascular involvement.1 Pancreatic intraepithelial neoplasms \\n(PanINs) refer to precancerous lesions, of which a small fraction may progress to high-grade \\ndysplasia and PDAC.12 Low-grade PanINs are common and their potential to transform \\ninto a malignancy is unclear. In a retrospective review of 584 patients who underwent a \\npancreatectomy for non-PDAC (median age, 59 years), 153 patients (26%) were identified \\nwith PanINs; most patients had low-grade PanIN-1 (50%) or PanIN-2 (41%) and 13 (8%) \\nhad PanIN-3. None of the patients with PanIN-3 developed cancer, whereas 1 patient with \\nPanIN-1B developed cancer in 4.4 years.13 Intraductal papillary mucinous neoplasms are \\nmore common precancerous cystic lesions than PanINs and can arise in either the main \\nor branch pancreatic duct. In a cohort study of 605 patients who underwent a surgical \\nprocedure for intraductal papillary mucinous neoplasms, the malignancy rate for final \\npathology in main-duct intraductal papillary mucinous neoplasms was 68%, whereas in \\na different cohort study of 1404 patients with branch-duct intraductal papillary mucinous \\nneoplasms, only 15% evolved to PDAC over 15 years.14–16 Annual imaging surveillance \\nis recommended; however, there is no consensus as to the optimal surveillance method or \\nfrequency of assessment.15,17 For asymptomatic average-risk individuals, the US Preventive \\nServices Task Force recommends against routine screening for PDAC.18\\nModifiable and Inherited Risk Factors\\nAmong lifestyle risk factors, current cigarette smoking has the strongest association \\nwith PDAC. A meta-analysis of 12 case-control studies that included 6507 patients with \\npancreatic cancer and 12 890 control patients reported an odds ratio (OR) of 1.74 (95% CI, \\n1.61–1.87) for the association of current smoking with pancreatic cancer (absolute rates not \\nreported).19,20 There was also a modest association of alcohol use with PDAC, when intake \\nexceeded 30 g per day (approximately 3 drinks per day), according to a meta-analysis of 19 \\nprospective studies reporting outcomes from 4 211 129 individuals (relative risk, 1.22 [95% \\nCI, 1.03–1.45]; absolute rates not reported).21 Chronic pancreatitis was associated with a \\n13-fold increased risk for PDAC in a pooled analysis of 14 prospective cohort studies of \\n862 664 individuals (relative risk, 13.3 [95% CI, 6.1–28.9]).22 Obesity, defined as a body \\nmass index in the fifth quintile (highest 20%), was also associated with an increased risk \\nof PDAC (incidence, 14.1 vs 5.7 per 100 000 person-years; adjusted relative risk, 1.54 \\n[95% CI, 1.04–2.29]) in a Norwegian analysis of 940 060 individuals.23 Diets of processed \\nmeat, high-fructose beverages, and saturated fat were associated with obesity, diabetes, and \\npancreatic cancer.24 The incidence of PDAC in people younger than 30 years is increasing. \\nThe annual incidence of PDAC increased with younger age from 1995 to 2014, from 0.77% \\n(95% CI, 0.57%–0.98%) for those aged 45 to 49 years, to 2.47% (95% CI, 1.77%–3.18%) \\nfor those aged 30 to 34 years, to 4.34% (95% CI, 3.19%–5.50%) for those aged 25 to 29 \\nyears, consistent with an increase in younger patients.24 This observation may be related Park et al. Page 3\\nJAMA . Author manuscript; available in PMC 2022 August 09.\\nAuthor Manuscript Author Manuscript Author Manuscript Author Manuscript', metadata={'source': 'documents/nihms-1828057.pdf', 'page': 2})]"
      ]
     },
     "execution_count": 5,
     "metadata": {},
     "output_type": "execute_result"
    }
   ],
   "source": [
    "pages[:3]"
   ]
  },
  {
   "cell_type": "code",
   "execution_count": 6,
   "metadata": {},
   "outputs": [
    {
     "name": "stdout",
     "output_type": "stream",
     "text": [
      "{'source': 'documents/nihms-1828057.pdf', 'page': 0}\n",
      "{'source': 'documents/nihms-1828057.pdf', 'page': 1}\n",
      "{'source': 'documents/nihms-1828057.pdf', 'page': 2}\n"
     ]
    }
   ],
   "source": [
    "for i in range(3):\n",
    "    print(pages[i].metadata)"
   ]
  },
  {
   "cell_type": "markdown",
   "metadata": {},
   "source": [
    "Since each page of the pdf is still quite long, we would break the pages into smaller pieces. \n",
    "\n",
    "We give a bit of overlap so that no meaningful sentence is lost. "
   ]
  },
  {
   "cell_type": "code",
   "execution_count": 7,
   "metadata": {},
   "outputs": [],
   "source": [
    "from langchain.text_splitter import RecursiveCharacterTextSplitter\n",
    "\n",
    "text_splitter = RecursiveCharacterTextSplitter(chunk_size=1000, chunk_overlap=20)\n",
    "\n",
    "documents = text_splitter.split_documents(pages)"
   ]
  },
  {
   "cell_type": "code",
   "execution_count": 8,
   "metadata": {},
   "outputs": [
    {
     "name": "stdout",
     "output_type": "stream",
     "text": [
      "28 vs 88\n"
     ]
    }
   ],
   "source": [
    "print(f\"{len(pages)} vs {len(documents)}\")"
   ]
  },
  {
   "cell_type": "markdown",
   "metadata": {},
   "source": [
    "Let's now load the api_key of openAI"
   ]
  },
  {
   "cell_type": "code",
   "execution_count": 9,
   "metadata": {},
   "outputs": [],
   "source": [
    "import os\n",
    "from dotenv import load_dotenv\n",
    "\n",
    "load_dotenv(\".env\")\n",
    "openai_api_key = os.getenv(\"openai_api_key\")"
   ]
  },
  {
   "cell_type": "markdown",
   "metadata": {},
   "source": [
    "#### Embeddings:\n",
    "\n",
    "We are going to use openAI embeddings to convert each chunk of text to numeric vectors. \n",
    "\n",
    "Remember, the reason is that searching throug a large number of text chunks is very time consuming. \n",
    "However, numeric vector comparision are extremely fast. "
   ]
  },
  {
   "cell_type": "code",
   "execution_count": 10,
   "metadata": {},
   "outputs": [],
   "source": [
    "from langchain_openai import OpenAIEmbeddings\n",
    "embeddings = OpenAIEmbeddings(openai_api_key=openai_api_key)"
   ]
  },
  {
   "cell_type": "markdown",
   "metadata": {},
   "source": [
    "#### Chroma vector database\n",
    "\n",
    "We need to store all the numeric vectors in a database. \n",
    "One local database is Chroma. "
   ]
  },
  {
   "cell_type": "code",
   "execution_count": 11,
   "metadata": {},
   "outputs": [],
   "source": [
    "from langchain_community.vectorstores import Chroma\n",
    "vector = Chroma.from_documents(documents, embeddings)"
   ]
  },
  {
   "cell_type": "markdown",
   "metadata": {},
   "source": [
    "#### large language model"
   ]
  },
  {
   "cell_type": "code",
   "execution_count": 12,
   "metadata": {},
   "outputs": [],
   "source": [
    "from langchain_openai import ChatOpenAI\n",
    "llm = ChatOpenAI(openai_api_key=openai_api_key)"
   ]
  },
  {
   "cell_type": "markdown",
   "metadata": {},
   "source": [
    "#### output parser\n",
    "\n",
    "We would like to convert the output of the chatmodel into a pure text"
   ]
  },
  {
   "cell_type": "code",
   "execution_count": 13,
   "metadata": {},
   "outputs": [],
   "source": [
    "from langchain_core.output_parsers import StrOutputParser\n",
    "output_parser = StrOutputParser()"
   ]
  },
  {
   "cell_type": "markdown",
   "metadata": {},
   "source": [
    "#### retrievers\n",
    "\n",
    "will be used to take the question, and compare it with all the numeric vectors in the database and return the most similar chunks of text"
   ]
  },
  {
   "cell_type": "code",
   "execution_count": 14,
   "metadata": {},
   "outputs": [],
   "source": [
    "retriever = vector.as_retriever()"
   ]
  },
  {
   "cell_type": "markdown",
   "metadata": {},
   "source": [
    "## Adding Memory"
   ]
  },
  {
   "cell_type": "markdown",
   "metadata": {},
   "source": [
    "#### Question maker\n",
    "\n",
    "One user asks a new question, there is a history of questions and answers in his/her mind.\n",
    "\n",
    "Here the idea is to reformulate user's question into a format that has its own context. \n",
    "\n",
    "We are going to use LLM to perform this reformulation of the question. \n",
    "\n",
    "\n",
    "Here is the idea:\n",
    "\n",
    "User's followup question <b>=></b> LLM <b>=></b> reformulated question (with history)\n",
    "\n"
   ]
  },
  {
   "cell_type": "code",
   "execution_count": 16,
   "metadata": {},
   "outputs": [],
   "source": [
    "from langchain_core.prompts import ChatPromptTemplate, MessagesPlaceholder\n",
    "\n",
    "instruction_to_system = \"\"\"\n",
    "Given a chat history and the latest user question \n",
    "which might reference context in the chat history, formulate a standalone question \n",
    "which can be understood without the chat history. Do NOT answer the question, \n",
    "just reformulate it if needed and otherwise return it as is.\n",
    "\"\"\"\n",
    "\n",
    "question_maker_prompt = ChatPromptTemplate.from_messages(\n",
    "    [\n",
    "        (\"system\", instruction_to_system),\n",
    "        MessagesPlaceholder(variable_name=\"chat_history\"),\n",
    "        (\"human\", \"{question}\"),\n",
    "    ]\n",
    ")\n",
    "\n",
    "\n",
    "question_chain = question_maker_prompt | llm | StrOutputParser()"
   ]
  },
  {
   "cell_type": "markdown",
   "metadata": {},
   "source": [
    "#### example\n",
    "\n",
    "Let's assume that we previously had asked about the shape of the moon and the ai had responded that the moon is spherical. \n",
    "\n",
    "Now user follows up asking for further explanation. But, does not give the context. \n",
    "\n",
    "The question_chain has to add the context to the followup question and make a new question. "
   ]
  },
  {
   "cell_type": "code",
   "execution_count": 17,
   "metadata": {},
   "outputs": [
    {
     "data": {
      "text/plain": [
       "'Can you provide further details about the shape of the moon?'"
      ]
     },
     "execution_count": 17,
     "metadata": {},
     "output_type": "execute_result"
    }
   ],
   "source": [
    "from langchain_core.messages import AIMessage, HumanMessage\n",
    "question_chain.invoke({\"question\":\"can you explain more?\", \n",
    "                       \"chat_history\": [HumanMessage(content=\"you explained that the moon is round\")]})"
   ]
  },
  {
   "cell_type": "markdown",
   "metadata": {},
   "source": [
    "#### Prompt\n",
    "\n",
    "We now build the prompt for the question and answer. \n",
    "\n",
    "This time, the prompt consistes of:\n",
    "* a python-list of system instruction\n",
    "* a place holder to take the chat history later on\n",
    "* user's question"
   ]
  },
  {
   "cell_type": "code",
   "execution_count": 18,
   "metadata": {},
   "outputs": [],
   "source": [
    "# Use three sentences maximum and keep the answer concise.\\\n",
    "qa_system_prompt = \"\"\"You are an assistant for question-answering tasks. \\\n",
    "Use the following pieces of retrieved context to answer the question. \\\n",
    "If you don't know the answer, provide a summary of the context. Do not generate your answer.\\\n",
    "\n",
    "\n",
    "{context}\"\"\"\n",
    "qa_prompt = ChatPromptTemplate.from_messages(\n",
    "    [\n",
    "        (\"system\", qa_system_prompt),\n",
    "        MessagesPlaceholder(variable_name=\"chat_history\"),\n",
    "        (\"human\", \"{question}\"),\n",
    "    ]\n",
    ")"
   ]
  },
  {
   "cell_type": "markdown",
   "metadata": {},
   "source": [
    "#### Which question to pass to LLM?\n",
    "\n",
    "We define a function that looks at the chat history, \n",
    "* if there is a history: it will pass the question chain (that reformulates user's question)\n",
    "* if chat history is empty, it will pass user's question directly"
   ]
  },
  {
   "cell_type": "code",
   "execution_count": 19,
   "metadata": {},
   "outputs": [],
   "source": [
    "def contextualized_question(input: dict):\n",
    "    if input.get(\"chat_history\"):\n",
    "        return question_chain\n",
    "    else:\n",
    "        return input[\"question\"]"
   ]
  },
  {
   "cell_type": "code",
   "execution_count": null,
   "metadata": {},
   "outputs": [],
   "source": [
    "# def format_docs(docs):\n",
    "#     return \"\\n\\n\".join(doc.page_content for doc in docs)"
   ]
  },
  {
   "cell_type": "markdown",
   "metadata": {},
   "source": [
    "#### Retriever chain\n",
    "\n",
    "We need a chain to pass the following to the llm:\n",
    "* context: use the vector retriever and get the most relevant chuncks of the PDF \n",
    "* question: reformulated or the original user's question depending on the history\n",
    "* chat_history: python list of the chats\n",
    "\n",
    "We use the assign function which adds the context to whatever it gets as input and pass it to the next link of the chain. "
   ]
  },
  {
   "cell_type": "code",
   "execution_count": 21,
   "metadata": {},
   "outputs": [],
   "source": [
    "from langchain_core.runnables import RunnablePassthrough\n",
    "retriever_chain = RunnablePassthrough.assign(\n",
    "        context=contextualized_question | retriever #| format_docs\n",
    "    )"
   ]
  },
  {
   "cell_type": "markdown",
   "metadata": {},
   "source": [
    "#### example\n",
    "\n",
    "Let's see the output of the <b>retriever_chain</b>\n",
    "\n",
    "Look at the extra \"conext\" variable that is added to the \"question\" and \"chat_history\" variables. \n",
    "\n",
    "This is what the \"assign\" function does"
   ]
  },
  {
   "cell_type": "code",
   "execution_count": 22,
   "metadata": {},
   "outputs": [
    {
     "data": {
      "text/plain": [
       "{'chat_history': [HumanMessage(content='you explained that the moon is round')],\n",
       " 'question': 'can you explain more?',\n",
       " 'context': [Document(page_content='Author Manuscript Author Manuscript Author Manuscript Author Manuscript', metadata={'page': 2, 'source': 'documents/nihms-1828057.pdf'}),\n",
       "  Document(page_content='indeterminate liver lesions are likely to represent metastases and identify cancers that \\nmay be poorly characterized on CT imaging. Positron emission tomography/CT using a \\nfluorodeoxyglucose tracer is a functional imaging tool that evaluates glucose metabolism in \\nthe tumor and can help distinguish benign from malignant lesions in the pancreas; however, \\nit lacks the spatial resolution and can detect glucose uptake from infection, inflammation \\nalso confounding interpretation.50 Positron emission tomography/CT is not considered a \\nroutine staging tool.\\nEndoscopic ultrasonography is used to visualize a pancreas mass directly, secure a definitive \\ncytologic or histologic diagnosis, define the degree of tumor-vascular involvement, evaluate \\nregional lymph nodes, and evaluate the potential for complete resection. Fine-needle \\ncore biopsy (preferred over fine-needle aspiration) of a tumor guided by endoscopic', metadata={'page': 5, 'source': 'documents/nihms-1828057.pdf'}),\n",
       "  Document(page_content='52. Fahrmann JF, Schmidt CM, Mao X, et al. Lead-time trajectory of CA19–9 as an anchor marker \\nfor pancreatic cancer early detection. Gastroenterology. 2021;160(4):1373–1383. doi:10.1053/\\nj.gastro.2020.11.052 [PubMed: 33333055] \\n53. Lee J-S, Park SS, Lee YK, Norton JA, Jeffrey SS. Liquid biopsy in pancreatic ductal \\nadenocarcinoma: current status of circulating tumor cells and circulating tumor DNA. Mol Oncol. \\n2019;13(8):1623–1650. doi:10.1002/1878-0261.12537 [PubMed: 31243883] \\n54. Vauthey JN, Dixon E. AHPBA/SSO/SSAT Consensus Conference on Resectable and Borderline \\nResectable Pancreatic Cancer: rationale and overview of the conference. Ann Surg Oncol. \\n2009;16(7):1725–1726. doi:10.1245/s10434-009-0409-5 [PubMed: 19396495] \\n55. Allen PJ, Kuk D, Castillo CF, et al. Multi-institutional validation study of the \\nAmerican Joint Commission on Cancer (8th Edition) changes for T and N staging \\nin patients with pancreatic adenocarcinoma. Ann Surg. 2017;265(1):185–191. doi:10.1097/', metadata={'page': 14, 'source': 'documents/nihms-1828057.pdf'}),\n",
       "  Document(page_content='ultrasonography is recommended to obtain a histologic diagnosis and to provide material \\nfor molecular testing (Table 1). Visualization of an obstructed biliary tree is performed \\nby endoscopic retrograde cholangiopancreatography, with decompression most often \\nachieved by placing a metallic biliary stent. Serum carbohydrate antigen 19–9 is a well-\\nestablished biomarker for PDAC and is useful for monitoring treatment response. Although \\ncarbohydrate antigen 19–9 is not sufficiently sensitive or specific for routine screening, \\nits value as a screening tool is being revisited.51,52 Other investigational blood-based \\nbiomarkers, including cell-free DNA, exosomes, and circulating tumor cells, may also be \\nuseful for monitoring treatment response and evaluating therapy resistance.53\\nClinical Staging and Multidisciplinary Management of Localized Disease\\nResectability, defined as the ability to completely remove the cancer, is assessed to select', metadata={'page': 5, 'source': 'documents/nihms-1828057.pdf'})]}"
      ]
     },
     "execution_count": 22,
     "metadata": {},
     "output_type": "execute_result"
    }
   ],
   "source": [
    "retriever_chain.invoke({\n",
    "    \"chat_history\":[HumanMessage(content=\"you explained that the moon is round\")],\n",
    "    \"question\": \"can you explain more?\"\n",
    "    })"
   ]
  },
  {
   "cell_type": "markdown",
   "metadata": {},
   "source": [
    "#### Retrieval-Augmented Generation (RAG) Chain: the man chain\n",
    "\n",
    "This is the main chain that produces the final answer"
   ]
  },
  {
   "cell_type": "code",
   "execution_count": 26,
   "metadata": {},
   "outputs": [],
   "source": [
    "\n",
    "rag_chain = (\n",
    "    retriever_chain\n",
    "    | qa_prompt\n",
    "    | llm\n",
    ")"
   ]
  },
  {
   "cell_type": "code",
   "execution_count": 25,
   "metadata": {},
   "outputs": [],
   "source": [
    "question = \"what percentage of patients have pathogenic germline gene variants?\""
   ]
  },
  {
   "cell_type": "code",
   "execution_count": 27,
   "metadata": {},
   "outputs": [
    {
     "data": {
      "text/plain": [
       "AIMessage(content='About 3.8% to 9.7% of patients with pancreatic ductal adenocarcinoma (PDAC) have pathogenic germline gene variants that increase susceptibility to the disease. These variants are mostly found in DNA damage repair genes like BRCA2, BRCA1, and ATM. Additionally, there are other rare inheritable germline variants like those in mismatch repair deficiency genes associated with Lynch syndrome, which occur in about 1% of patients with PDAC.')"
      ]
     },
     "execution_count": 27,
     "metadata": {},
     "output_type": "execute_result"
    }
   ],
   "source": [
    "chat_history = []\n",
    "\n",
    "ai_msg = rag_chain.invoke({\"question\": question, \"chat_history\": chat_history})\n",
    "chat_history.extend([HumanMessage(content=question), ai_msg])\n",
    "ai_msg"
   ]
  },
  {
   "cell_type": "code",
   "execution_count": 28,
   "metadata": {},
   "outputs": [
    {
     "name": "stdout",
     "output_type": "stream",
     "text": [
      "About 3.8% to 9.7% of patients with pancreatic ductal adenocarcinoma (PDAC) have pathogenic germline gene variants that increase susceptibility to the disease. These variants are mostly found in DNA damage repair genes like BRCA2, BRCA1, and ATM. Additionally, there are other rare inheritable germline variants like those in mismatch repair deficiency genes associated with Lynch syndrome, which occur in about 1% of patients with PDAC.\n"
     ]
    }
   ],
   "source": [
    "print(ai_msg.content)"
   ]
  },
  {
   "cell_type": "code",
   "execution_count": 29,
   "metadata": {},
   "outputs": [
    {
     "data": {
      "text/plain": [
       "AIMessage(content='Pancreatic ductal adenocarcinoma (PDAC) is associated with pathogenic germline gene variants in approximately 3.8% to 9.7% of patients. These variants are typically found in genes involved in DNA damage repair, such as BRCA2, BRCA1, and ATM. BRCA2 variants are more commonly associated with an increased risk of PDAC compared to BRCA1 or ATM variants. In addition to these common variants, there are rare but therapeutically important inheritable germline variants in genes related to mismatch repair deficiency, like MLH1, MSH2, MSH6, and PMS2, which are part of Lynch syndrome and occur in about 1% of PDAC patients. This information highlights the role of genetic factors in predisposing individuals to pancreatic cancer and the importance of genetic testing for better management and treatment strategies.')"
      ]
     },
     "execution_count": 29,
     "metadata": {},
     "output_type": "execute_result"
    }
   ],
   "source": [
    "question = \"Can you explain more?\"\n",
    "ai_msg = rag_chain.invoke({\"question\": question, \"chat_history\": chat_history})\n",
    "chat_history.extend([HumanMessage(content=question), ai_msg])\n",
    "ai_msg"
   ]
  }
 ],
 "metadata": {
  "kernelspec": {
   "display_name": "Python 3",
   "language": "python",
   "name": "python3"
  },
  "language_info": {
   "codemirror_mode": {
    "name": "ipython",
    "version": 3
   },
   "file_extension": ".py",
   "mimetype": "text/x-python",
   "name": "python",
   "nbconvert_exporter": "python",
   "pygments_lexer": "ipython3",
   "version": "3.11.5"
  }
 },
 "nbformat": 4,
 "nbformat_minor": 2
}
