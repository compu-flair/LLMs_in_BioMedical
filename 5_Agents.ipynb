{
 "cells": [
  {
   "cell_type": "markdown",
   "metadata": {},
   "source": [
    "### Agents Vs Chains\n",
    "\n",
    "* Chain: the pipline is pre-fixed\n",
    "\n",
    "\n",
    "* Agent: dynamic decision making \n",
    "    * Language models' intelligence make decisions on the fly\n",
    "\n",
    "\n",
    "\n",
    "\n",
    "<img src=\"documents/Agent.jpeg\" style=\"width:50%;\">\n",
    "\n",
    "\n"
   ]
  },
  {
   "cell_type": "markdown",
   "metadata": {},
   "source": [
    "### Tavily Search Engine\n",
    "\n",
    "Tavily’s Search API is a search engine built specifically for AI agents (LLMs), delivering real-time, accurate, and factual results at speed.\n",
    "\n",
    "<h5>Get API Key:</h5>\n",
    "\n",
    "* Go to https://tavily.com\n",
    "\n",
    "* Register (there is a free plan without credit card)\n",
    "\n",
    "* Get the API key\n",
    "\n",
    "* Add to the .env file in this folder: \n",
    "* * TAVILY_API_KEY=your-key\n",
    "\n",
    "<hr>"
   ]
  },
  {
   "cell_type": "code",
   "execution_count": 1,
   "metadata": {},
   "outputs": [],
   "source": [
    "## import API keys from .env file in this folder\n",
    "import os\n",
    "from dotenv import load_dotenv\n",
    "load_dotenv(\".env\")\n",
    "\n",
    "openai_api_key    = os.getenv(\"openai_api_key\")\n",
    "TAVILY_API_KEY    = os.getenv(\"TAVILY_API_KEY\")"
   ]
  },
  {
   "cell_type": "code",
   "execution_count": null,
   "metadata": {},
   "outputs": [],
   "source": [
    "from langchain_community.tools.tavily_search import TavilySearchResults\n",
    "\n",
    "search = TavilySearchResults()\n",
    "search.invoke({\"query\": \"What does CompuFlair company do?\"})"
   ]
  },
  {
   "cell_type": "markdown",
   "metadata": {},
   "source": [
    "### Retriever\n",
    "We use the previous video's retriever to load a pdf article on cancer\n",
    "<hr>"
   ]
  },
  {
   "cell_type": "code",
   "execution_count": 3,
   "metadata": {},
   "outputs": [],
   "source": [
    "## review article about Liver Cancer\n",
    "!open documents/APJCP-18-863.pdf\n",
    "\n",
    "## review article about Pancreatic Cancer\n",
    "!open documents/nihms-1828057.pdf"
   ]
  },
  {
   "cell_type": "code",
   "execution_count": 4,
   "metadata": {},
   "outputs": [],
   "source": [
    "## pdf loader\n",
    "from langchain_community.document_loaders import PyPDFLoader\n",
    "loader = PyPDFLoader(\"documents/nihms-1828057.pdf\")\n",
    "pages = loader.load_and_split()\n",
    "\n",
    "## text splitter\n",
    "from langchain.text_splitter import RecursiveCharacterTextSplitter\n",
    "text_splitter = RecursiveCharacterTextSplitter(chunk_size=1000, chunk_overlap=20)\n",
    "documents = text_splitter.split_documents(pages)\n",
    "\n",
    "## embeddings\n",
    "from langchain_openai import OpenAIEmbeddings\n",
    "embeddings = OpenAIEmbeddings(openai_api_key=openai_api_key)\n",
    "# from langchain_google_genai.embeddings import GoogleGenerativeAIEmbeddings\n",
    "# embeddings = GoogleGenerativeAIEmbeddings(model=\"models/embedding-001\")\n",
    "\n",
    "## vector database\n",
    "from langchain_community.vectorstores import FAISS\n",
    "vector = FAISS.from_documents(documents, embeddings)\n",
    "retriever_panc = vector.as_retriever()"
   ]
  },
  {
   "cell_type": "code",
   "execution_count": 5,
   "metadata": {},
   "outputs": [],
   "source": [
    "## do the same for Liver Cancer \n",
    "## pdf loader\n",
    "\n",
    "loader = PyPDFLoader(\"documents/APJCP-18-863.pdf\")\n",
    "pages = loader.load_and_split()\n",
    "\n",
    "## text splitter\n",
    "documents = text_splitter.split_documents(pages)\n",
    "\n",
    "## vector database\n",
    "vector = FAISS.from_documents(documents, embeddings)\n",
    "retriever_liver = vector.as_retriever()"
   ]
  },
  {
   "cell_type": "markdown",
   "metadata": {},
   "source": [
    "### Turn retriever into a tool \n",
    "\n",
    "Once \n",
    "<hr>"
   ]
  },
  {
   "cell_type": "code",
   "execution_count": 6,
   "metadata": {},
   "outputs": [],
   "source": [
    "from langchain.tools.retriever import create_retriever_tool\n",
    "retriever_tool_panc = create_retriever_tool(\n",
    "    retriever_panc,\n",
    "    \"pancreatic_cancer_search\",\n",
    "    \"Search for information about Pancreatic Cancer. For any questions about Pancreatic Cancer, you must use this tool!\",\n",
    ")"
   ]
  },
  {
   "cell_type": "code",
   "execution_count": 7,
   "metadata": {},
   "outputs": [],
   "source": [
    "## do the same for Liver Cancer \n",
    "retriever_tool_liver = create_retriever_tool(\n",
    "    retriever_liver,\n",
    "    \"liver_cancer_search\",\n",
    "    \"Search for information about Liver Cancer. For any questions about Liver Cancer, you must use this tool!\",\n",
    ")"
   ]
  },
  {
   "cell_type": "markdown",
   "metadata": {},
   "source": [
    "### Tools list\n",
    "\n",
    "Make a python list of the tools to be used by the agent.\n",
    "\n",
    "<hr>"
   ]
  },
  {
   "cell_type": "code",
   "execution_count": 8,
   "metadata": {},
   "outputs": [],
   "source": [
    "## tools\n",
    "tools = [search, retriever_tool_panc, retriever_tool_liver]"
   ]
  },
  {
   "cell_type": "markdown",
   "metadata": {},
   "source": [
    "### Add LLM\n",
    "\n",
    "Add the LLM as the reasoning engine of the Agent"
   ]
  },
  {
   "cell_type": "code",
   "execution_count": 9,
   "metadata": {},
   "outputs": [],
   "source": [
    "from langchain_openai import ChatOpenAI\n",
    "llm = ChatOpenAI(openai_api_key=openai_api_key)"
   ]
  },
  {
   "cell_type": "markdown",
   "metadata": {},
   "source": [
    "### Agent's Prompt\n",
    "We choose the prompt we want to use to guide the agent.\n",
    "It is a list of system, human, and place holder prompt templates.\n",
    "<hr>"
   ]
  },
  {
   "cell_type": "code",
   "execution_count": 10,
   "metadata": {},
   "outputs": [
    {
     "data": {
      "text/plain": [
       "[SystemMessagePromptTemplate(prompt=PromptTemplate(input_variables=[], template='You are a helpful assistant')),\n",
       " MessagesPlaceholder(variable_name='chat_history', optional=True),\n",
       " HumanMessagePromptTemplate(prompt=PromptTemplate(input_variables=['input'], template='{input}')),\n",
       " MessagesPlaceholder(variable_name='agent_scratchpad')]"
      ]
     },
     "execution_count": 10,
     "metadata": {},
     "output_type": "execute_result"
    }
   ],
   "source": [
    "from langchain import hub\n",
    "\n",
    "# Get the prompt to use - you can modify this!\n",
    "prompt = hub.pull(\"hwchase17/openai-functions-agent\")\n",
    "prompt.messages"
   ]
  },
  {
   "cell_type": "markdown",
   "metadata": {},
   "source": [
    "### Initialize Agent"
   ]
  },
  {
   "cell_type": "code",
   "execution_count": 11,
   "metadata": {},
   "outputs": [],
   "source": [
    "from langchain.agents import create_openai_functions_agent\n",
    "\n",
    "agent = create_openai_functions_agent(llm, tools, prompt)"
   ]
  },
  {
   "cell_type": "markdown",
   "metadata": {},
   "source": [
    "### Agent Executor\n",
    "\n",
    "This will execute the agent"
   ]
  },
  {
   "cell_type": "code",
   "execution_count": 12,
   "metadata": {},
   "outputs": [],
   "source": [
    "from langchain.agents import AgentExecutor\n",
    "\n",
    "agent_executor = AgentExecutor(agent=agent, tools=tools, verbose=True)"
   ]
  },
  {
   "cell_type": "code",
   "execution_count": 13,
   "metadata": {},
   "outputs": [
    {
     "name": "stdout",
     "output_type": "stream",
     "text": [
      "\n",
      "\n",
      "\u001b[1m> Entering new AgentExecutor chain...\u001b[0m\n",
      "\u001b[32;1m\u001b[1;3mHello! How can I assist you today?\u001b[0m\n",
      "\n",
      "\u001b[1m> Finished chain.\u001b[0m\n"
     ]
    },
    {
     "data": {
      "text/plain": [
       "{'input': 'hi!', 'output': 'Hello! How can I assist you today?'}"
      ]
     },
     "execution_count": 13,
     "metadata": {},
     "output_type": "execute_result"
    }
   ],
   "source": [
    "## run agent executor\n",
    "agent_executor.invoke({\"input\": \"hi!\"})"
   ]
  },
  {
   "cell_type": "code",
   "execution_count": 14,
   "metadata": {},
   "outputs": [
    {
     "name": "stdout",
     "output_type": "stream",
     "text": [
      "\n",
      "\n",
      "\u001b[1m> Entering new AgentExecutor chain...\u001b[0m\n",
      "\u001b[32;1m\u001b[1;3m\n",
      "Invoking: `pancreatic_cancer_search` with `{'query': 'Pancreatic Cancer'}`\n",
      "\n",
      "\n",
      "\u001b[0m\u001b[33;1m\u001b[1;3mBox.\n",
      "Overview of Pancreatic Cancer\n",
      "General Facts\n",
      "Approximately 60 000 diagnoses per year in the US\n",
      "Incidence of about 1% over lifetime\n",
      "The tenth to eleventh leading cause of cancer in the US\n",
      "Third leading cause of cancer-related mortality\n",
      "5-year survival (all-comers), 10%\n",
      "Median age at diagnosis, 71 years\n",
      "Male/female incidence ratio: 1.3/1.0\n",
      "50% of patients present with metastatic disease (AJCC stage IV)\n",
      "30% of patients present with locally advanced disease (AJCC stage III)\n",
      "20% of patients present with localized resectable disease (AJCC stage I and II)\n",
      "Most common causative germline alterations: BRCA2, BRCA1, ATM, PALB2\n",
      "Common sites of metastasis: liver, lymph node, lung, and peritoneum\n",
      "Rare sites of metastasis: skin, brain, and leptomeninges\n",
      "Lifestyle Risk Factors\n",
      "Tobacco\n",
      "Excess alcohol consumption (chronic pancreatitis)\n",
      "Obesity (body mass index >30), metabolic disorders, low levels of physical activity\n",
      "Diet: high fat, polyunsaturated fats, processed meats\n",
      "Genetic Risk Factors  a\n",
      "\n",
      "Pancreatic Cancer: A Review\n",
      "Wungki Park, MD ,\n",
      "Department of Medicine, Memorial Sloan Kettering Cancer Center, New York, New York\n",
      "David M. Rubenstein Center for Pancreatic Cancer Research, New York, New York\n",
      "Department of Medicine, Weill Cornell Medical College, New York, New York\n",
      "Parker Institute for Cancer Immunotherapy, San Francisco, California\n",
      "Akhil Chawla, MD ,\n",
      "Department of Surgery, Northwestern Medicine Regional Medical Group, Northwestern University \n",
      "Feinberg School of Medicine, Chicago, Illinois\n",
      "Robert H. Lurie Comprehensive Cancer Center, Chicago, Illinois\n",
      "Eileen M. O’Reilly, MD\n",
      "Department of Medicine, Memorial Sloan Kettering Cancer Center, New York, New York\n",
      "David M. Rubenstein Center for Pancreatic Cancer Research, New York, New York\n",
      "Department of Medicine, Weill Cornell Medical College, New York, New York\n",
      "Abstract\n",
      "IMPORTANCE— Pancreatic ductal adenocarcinoma (PDAC) is a relatively uncommon cancer,\n",
      "\n",
      "Figure 1. \n",
      "Spectrum of Localized Pancreatic CancerPark et al. Page 19\n",
      "JAMA . Author manuscript; available in PMC 2022 August 09.\n",
      "Author Manuscript Author Manuscript Author Manuscript Author Manuscript\n",
      "\n",
      "doi:10.1038/s41598-017-02997-2 [PubMed: 28600530] \n",
      "11. Rawla P, Sunkara T, Gaduputi V . Epidemiology of pancreatic cancer: global trends, etiology and \n",
      "risk factors. World J Oncol. 2019;10(1):10–27. doi:10.14740/wjon1166 [PubMed: 30834048] Park et al. Page 12\n",
      "JAMA . Author manuscript; available in PMC 2022 August 09.\n",
      "Author Manuscript Author Manuscript Author Manuscript Author Manuscript\u001b[0m\u001b[32;1m\u001b[1;3mPancreatic cancer is a relatively uncommon cancer that affects approximately 60,000 people in the US each year. It is the tenth to eleventh leading cause of cancer in the US and the third leading cause of cancer-related mortality. The 5-year survival rate for all patients is 10%. Pancreatic cancer is more common in individuals aged 71 years and older, with a slightly higher incidence in males compared to females.\n",
      "\n",
      "Risk factors for pancreatic cancer include tobacco use, excess alcohol consumption (which can lead to chronic pancreatitis), obesity, and a diet high in fat and processed meats. Genetic factors such as BRCA2, BRCA1, ATM, and PALB2 mutations can also increase the risk of developing pancreatic cancer.\n",
      "\n",
      "Patients with pancreatic cancer may present with metastatic disease, locally advanced disease, or localized resectable disease. Common sites of metastasis include the liver, lymph nodes, lungs, and peritoneum. Rare sites of metastasis can include the skin, brain, and leptomeninges.\n",
      "\n",
      "It is important to consult with a healthcare provider for a proper diagnosis and treatment plan if you have concerns about pancreatic cancer.\u001b[0m\n",
      "\n",
      "\u001b[1m> Finished chain.\u001b[0m\n"
     ]
    },
    {
     "data": {
      "text/plain": [
       "{'input': 'what is pancreatic cancer?',\n",
       " 'output': 'Pancreatic cancer is a relatively uncommon cancer that affects approximately 60,000 people in the US each year. It is the tenth to eleventh leading cause of cancer in the US and the third leading cause of cancer-related mortality. The 5-year survival rate for all patients is 10%. Pancreatic cancer is more common in individuals aged 71 years and older, with a slightly higher incidence in males compared to females.\\n\\nRisk factors for pancreatic cancer include tobacco use, excess alcohol consumption (which can lead to chronic pancreatitis), obesity, and a diet high in fat and processed meats. Genetic factors such as BRCA2, BRCA1, ATM, and PALB2 mutations can also increase the risk of developing pancreatic cancer.\\n\\nPatients with pancreatic cancer may present with metastatic disease, locally advanced disease, or localized resectable disease. Common sites of metastasis include the liver, lymph nodes, lungs, and peritoneum. Rare sites of metastasis can include the skin, brain, and leptomeninges.\\n\\nIt is important to consult with a healthcare provider for a proper diagnosis and treatment plan if you have concerns about pancreatic cancer.'}"
      ]
     },
     "execution_count": 14,
     "metadata": {},
     "output_type": "execute_result"
    }
   ],
   "source": [
    "agent_executor.invoke({\"input\": \"what is pancreatic cancer?\"})"
   ]
  },
  {
   "cell_type": "code",
   "execution_count": 15,
   "metadata": {},
   "outputs": [
    {
     "name": "stdout",
     "output_type": "stream",
     "text": [
      "\n",
      "\n",
      "\u001b[1m> Entering new AgentExecutor chain...\u001b[0m\n",
      "\u001b[32;1m\u001b[1;3m\n",
      "Invoking: `liver_cancer_search` with `{'query': 'Liver Cancer'}`\n",
      "\n",
      "\n",
      "\u001b[0m\u001b[38;5;200m\u001b[1;3mAsian Pacific Journal of Cancer Prevention, Vol 18863\n",
      "DOI:10.22034/APJCP .2017.18.4.863\n",
      "A Review of Hepatocellular Carcinoma \n",
      "Asian Pac J Cancer Prev,  18 (4) , 863-872\n",
      "Introduction\n",
      "Hepatocellular carcinoma (HCC), the primary cancer \n",
      "of the liver, is derived from hepatocytes and occurs in \n",
      "more than approximately 80% of cases of liver cancer \n",
      "(Jemal, 2011).\n",
      "The incidence of HCC is higher on mean ages from its \n",
      "diagnosis between 55 and 59 years in China, and 63-65 \n",
      "years in North America and Europe. Higher rates of HCC \n",
      "are observed in East and Southeast Asia, East and Western \n",
      "Africa (Jemal et al., 2011; El-Serag, 2012). The latest \n",
      "data estimated by GLOBOCAN showed about 782,000 \n",
      "new cases and 745,000 deaths of liver cancer in 2012 \n",
      "worldwide. Therefore, the World Health Organization \n",
      "(WHO) considers HCC as the second leading cause of \n",
      "cancer deaths (Ferlay et al., 2015).\n",
      "HCC development results from the interaction between \n",
      "environmental and genetic factors. Liver cirrhosis,\n",
      "\n",
      "Orman ES, Odena G, Bataller R (2013). Alcoholic liver disease: \n",
      "pathogenesis, management, and novel targets for therapy. J \n",
      "Gastroenterol Hepatol , 28, 77-84.\n",
      "Pimenta JR, Massabki OS (2010). Hepatocellular carcinoma: a \n",
      "clinical outlook. Rev Bras Clin Med , 8, 59-67.\n",
      "Pocha C, Kolly P, Dufour JF (2015). Nonalcoholic fatty liver \n",
      "disease-related hepatocellular carcinoma: A problem of \n",
      "growing magnitude. Semin Liver Dis , 35, 304-17.\n",
      "Rahimi RS, Trotter JF (2015). Liver transplantation for \n",
      "hepatocellular carcinoma: outcomes and treatment options \n",
      "for recurrence. Ann Gastroenterol , 28, 323-30.\n",
      "Ryan MJ, Willatt J, Majdalany BS, et al (2016). Ablation \n",
      "techniques for primary and metastatic liver tumors. World \n",
      "J Hepatol , 8, 191-9.\n",
      "Schlachterman A, Craft Jr WW, Hilgenfeldt E, et al (2015). \n",
      "Current and future treatments for hepatocellular carcinoma. \n",
      "World J Gastroenterol , 21, 8478-91.\n",
      "Schütte K, Schulz C, Link A, Malfertheiner P (2015). Current\n",
      "\n",
      "hepatitis B virus (HBV) and hepatitis C virus (HCV) \n",
      "infection, excessive alcohol consumption, ingestion of \n",
      "aflatoxin B1, and nonalcoholic steatohepatitis (NASH) \n",
      "are important risk factors for HCC development (Pimenta \n",
      "et al., 2010; Gomes et al., 2013).\n",
      "Life expectancy of patients with HCC depends on the \n",
      "stage of the cancer at diagnosis. In advanced stage, some Abstract\n",
      "Hepatocellular carcinoma (HCC) is a cause of several deaths related to cancer worldwidely. In early stage, curative \n",
      "treatments such as surgical resection, liver transplant and local ablation can improve the patient ´s survival. However, \n",
      "the disease is detected in advanced stage; moreover some available therapies are restricted to palliative care and local \n",
      "treatment. Early detections of HCC and adequate therapy are crucial to increase survival as well as to improve the \n",
      "patient´s quality of life. Therefore, researchers have been investigating molecular biomarkers with high sensibility and\n",
      "\n",
      "and in mice. Gastroenterol ,149, 1042-52.\n",
      "De Lope CR, Tremosini S, Forner A, Reig M, Bruix J (2012). \n",
      "Management of HCC. J Hepato , 56, 75-87.\n",
      "Dong Q, Zhu X, Dai C, et al (2016). Osteopontin promotes \n",
      "epithelial-mesenchymal transition of hepatocellular \n",
      "carcinoma through regulating vimentin. Oncotarget , 7, \n",
      "12997-13012.\n",
      "Eagon P (2010). Alcoholic liver injury: Influence of gender and \n",
      "hormones. World J Gastroenterol , 16, 1377-84.\n",
      "Elmashad N, Ibrahim WS, Mayah WW, et al (2015). Predictive \n",
      "value of serum insulin-like growth factor-1 in hepatocellular \n",
      "carcinoma. Asian Pac J Cancer Prev , 16, 613-9.\n",
      "El-Serag HB (2012). Epidemiology of viral hepatitis and \n",
      "hepatocellular carcinoma. Gastroenterology , 142, 1264-73.\n",
      "European Association for the Study of the liver (2012), \n",
      "European organization for research and treatment of cancer.\u001b[0m\u001b[32;1m\u001b[1;3mLiver cancer, specifically hepatocellular carcinoma (HCC), is the primary cancer of the liver that is derived from hepatocytes. It accounts for more than approximately 80% of cases of liver cancer. The incidence of HCC is higher in certain regions such as East and Southeast Asia, East and Western Africa. Environmental and genetic factors play a role in the development of HCC, with liver cirrhosis, hepatitis B and C virus infection, excessive alcohol consumption, ingestion of aflatoxin B1, and nonalcoholic steatohepatitis (NASH) being important risk factors.\n",
      "\n",
      "Treatment options for HCC include surgical resection, liver transplant, and local ablation in the early stages to improve patient survival. However, in advanced stages, available therapies are often limited to palliative care and local treatment. Early detection and appropriate therapy are crucial for increasing survival rates and improving the quality of life for patients with HCC. Researchers are actively investigating molecular biomarkers to aid in early detection and improve treatment outcomes for HCC.\u001b[0m\n",
      "\n",
      "\u001b[1m> Finished chain.\u001b[0m\n"
     ]
    },
    {
     "data": {
      "text/plain": [
       "{'input': 'what is liver cancer?',\n",
       " 'output': 'Liver cancer, specifically hepatocellular carcinoma (HCC), is the primary cancer of the liver that is derived from hepatocytes. It accounts for more than approximately 80% of cases of liver cancer. The incidence of HCC is higher in certain regions such as East and Southeast Asia, East and Western Africa. Environmental and genetic factors play a role in the development of HCC, with liver cirrhosis, hepatitis B and C virus infection, excessive alcohol consumption, ingestion of aflatoxin B1, and nonalcoholic steatohepatitis (NASH) being important risk factors.\\n\\nTreatment options for HCC include surgical resection, liver transplant, and local ablation in the early stages to improve patient survival. However, in advanced stages, available therapies are often limited to palliative care and local treatment. Early detection and appropriate therapy are crucial for increasing survival rates and improving the quality of life for patients with HCC. Researchers are actively investigating molecular biomarkers to aid in early detection and improve treatment outcomes for HCC.'}"
      ]
     },
     "execution_count": 15,
     "metadata": {},
     "output_type": "execute_result"
    }
   ],
   "source": [
    "agent_executor.invoke({\"input\": \"what is liver cancer?\"})"
   ]
  },
  {
   "cell_type": "code",
   "execution_count": 16,
   "metadata": {},
   "outputs": [
    {
     "name": "stdout",
     "output_type": "stream",
     "text": [
      "\n",
      "\n",
      "\u001b[1m> Entering new AgentExecutor chain...\u001b[0m\n",
      "\u001b[32;1m\u001b[1;3m\n",
      "Invoking: `tavily_search_results_json` with `{'query': 'What is heart disease?'}`\n",
      "\n",
      "\n",
      "\u001b[0m\u001b[36;1m\u001b[1;3m[{'url': 'https://www.cdc.gov/heartdisease/index.htm', 'content': 'Heart Disease. Heart disease is the leading cause of death in the United States The term \"heart disease\" refers to several types of heart conditions. In the United States, the most common type of heart disease is coronary artery disease (CAD), which can lead to heart attack. You can greatly reduce your risk for heart disease through ...'}, {'url': 'https://my.clevelandclinic.org/health/diseases/24129-heart-disease', 'content': 'Heart disease is a variety of issues that can affect your heart, but coronary artery disease (CAD) is the most common and familiar one. Learn about the symptoms, causes, types and treatment of heart disease from Cleveland Clinic, a non-profit academic medical center.'}, {'url': 'https://www.heart.org/en/health-topics/consumer-healthcare/what-is-cardiovascular-disease', 'content': 'Cardiovascular disease is a term for various conditions that affect the heart and blood vessels. Learn about the common types, such as heart attack, stroke, heart failure and arrhythmia, and how they are diagnosed and treated.'}, {'url': 'https://www.cdc.gov/heartdisease/about.htm', 'content': 'Learn what heart disease is, its symptoms, risk factors, and how to prevent it. Find out how cardiac rehabilitation can help you recover from a heart attack, heart failure, or heart surgery.'}, {'url': 'https://www.mayoclinic.org/diseases-conditions/heart-disease/symptoms-causes/syc-20353118', 'content': 'Heart valve disease may also be caused by conditions such as:\\nMore Information\\nRisk factors\\nRisk factors for heart disease include:\\nComplications\\nComplications of heart disease include:\\nMore Information\\nPrevention\\nThe same lifestyle changes used to manage heart disease may also help prevent it. Try these heart-healthy tips:\\nMore Information\\nHeart disease care at Mayo Clinic\\nRelated\\nAssociated Procedures\\nNews from Mayo Clinic\\nProducts & Services\\nMayo Clinic in Rochester, Minnesota, has been recognized as one of the top Cardiology & Heart Surgery hospitals in the nation for 2023-2024 by U.S. News & World Report.\\n About Mayo Clinic\\nMedical Professionals\\nBusinesses\\nMedical Professionals\\nBusinesses\\nStudents\\nStudents\\nResearchers\\nInternational Patients\\nCharitable Care & Financial Assistance\\nFollow Mayo Clinic\\nGet the Mayo Clinic app\\n© 1998-2023 Mayo Foundation for Medical Education and Research (MFMER). Heart diseases include:\\nMany forms of heart disease can be prevented or treated with healthy lifestyle choices.\\nProducts & Services\\nSymptoms\\nHeart disease symptoms depend on the type of heart disease.\\n How the heart works\\nChambers and valves of the heart\\nChambers and valves of the heart\\nA typical heart has two upper and two lower chambers.'}]\u001b[0m\u001b[32;1m\u001b[1;3mHeart disease refers to several types of heart conditions that can affect the heart and blood vessels. The most common type of heart disease in the United States is coronary artery disease (CAD), which can lead to a heart attack. Risk factors for heart disease include high blood pressure, high cholesterol, smoking, diabetes, and obesity. Symptoms of heart disease vary depending on the type of heart condition. It is important to reduce the risk of heart disease through healthy lifestyle choices such as maintaining a balanced diet, regular exercise, and avoiding smoking. If you have any concerns about heart disease, it is best to consult with a healthcare provider for personalized advice and treatment options.\u001b[0m\n",
      "\n",
      "\u001b[1m> Finished chain.\u001b[0m\n"
     ]
    },
    {
     "data": {
      "text/plain": [
       "{'input': 'search the the web to see what is heart disease?',\n",
       " 'output': 'Heart disease refers to several types of heart conditions that can affect the heart and blood vessels. The most common type of heart disease in the United States is coronary artery disease (CAD), which can lead to a heart attack. Risk factors for heart disease include high blood pressure, high cholesterol, smoking, diabetes, and obesity. Symptoms of heart disease vary depending on the type of heart condition. It is important to reduce the risk of heart disease through healthy lifestyle choices such as maintaining a balanced diet, regular exercise, and avoiding smoking. If you have any concerns about heart disease, it is best to consult with a healthcare provider for personalized advice and treatment options.'}"
      ]
     },
     "execution_count": 16,
     "metadata": {},
     "output_type": "execute_result"
    }
   ],
   "source": [
    "agent_executor.invoke({\"input\": \"search the the web to see what is heart disease?\"})"
   ]
  },
  {
   "cell_type": "code",
   "execution_count": 17,
   "metadata": {},
   "outputs": [
    {
     "name": "stdout",
     "output_type": "stream",
     "text": [
      "\n",
      "\n",
      "\u001b[1m> Entering new AgentExecutor chain...\u001b[0m\n",
      "\u001b[32;1m\u001b[1;3m\n",
      "Invoking: `tavily_search_results_json` with `{'query': 'weather in Houston TX'}`\n",
      "\n",
      "\n",
      "\u001b[0m\u001b[36;1m\u001b[1;3m[{'url': 'https://weather.com/weather/hourbyhour/l/Houston+TX?canonicalCityId=e7763a6187b4cb5fd0f85ad30c23f37f320bfe7e910e6fdbe90b501f206d265c', 'content': \"recents\\nSpecialty Forecasts\\nHourly Weather-Houston, TX\\nSunday, November 26\\n12 pm\\nMostly Cloudy\\n1 pm\\nMostly Cloudy\\n2 pm\\nPartly Cloudy\\n3 pm\\nPartly Cloudy\\n4 pm\\nPartly Cloudy\\n5 pm\\nPartly Cloudy\\n6 pm\\nMostly Cloudy\\n7 pm\\nMostly Cloudy\\n8 pm\\nMostly Cloudy\\n9 pm\\nMostly Cloudy\\n10 pm\\nPartly Cloudy\\n11 pm\\nPartly Cloudy\\nMonday, November 27\\n12 am\\nPartly Cloudy\\n1 am\\nPartly Cloudy\\n2 am\\nPartly Cloudy\\n3 am\\nMostly Cloudy\\n4 am\\nMostly Cloudy\\n5 am\\nMostly Cloudy\\n6 am\\nMostly Cloudy\\n7 am\\nMostly Cloudy\\n8 am\\nPartly Cloudy\\n9 am\\nPartly Cloudy\\n10 am\\nPartly Cloudy\\n11 am\\nMostly Cloudy\\n12 pm\\nMostly Cloudy\\n1 pm\\nMostly Cloudy\\n2 pm\\nMostly Cloudy\\n3 pm\\nMostly Cloudy\\n4 pm\\nCloudy\\n5 pm\\nCloudy\\n6 pm\\nCloudy\\n7 pm\\nCloudy\\n8 pm\\nCloudy\\n9 pm\\nCloudy\\n10 pm\\nCloudy\\n11 pm\\nCloudy\\nTuesday, November 28\\n12 am\\nCloudy\\n1 am\\nMostly Cloudy\\n2 am\\nMostly Cloudy\\n3 am\\nMostly Cloudy\\n4 am\\nMostly Cloudy\\n5 am\\nMostly Cloudy\\n6 am\\nMostly Cloudy\\n7 am\\nPartly Cloudy\\n8 am\\nPartly Cloudy\\n9 am\\nPartly Cloudy\\n10 am\\nPartly Cloudy\\n11 am\\nMostly Sunny\\nRadar\\nSafety First!\\nDon't Miss\\nIrresistible\\nWeather Wonders\\nOur Amazing World\\n'Beaver Moon' Rising\\nFried Turkey Fail\\nLook At That!\\nChanges For Critters\\nStay Safe\\nAir Quality Index\\nAir quality is acceptable; however, for some pollutants there may be a moderate health concern for a very small number of people who are unusually sensitive to air pollution.\\n Health & Activities\\nSeasonal Allergies and Pollen Count Forecast\\nGrass pollen is low in your area\\nCold & Flu Forecast\\nFlu risk is moderate in your area\\n Take control of your data.\\n We recognize our responsibility to use data and technology for good. We may use or share your data with our data vendors.\"}, {'url': 'https://www.wunderground.com/forecast/us/tx/houston', 'content': 'Get the latest weather information for Houston, TX, including temperature, precipitation, wind, humidity, pressure and more. See the hourly and 10-day forecast for William P Hobby Airport and other nearby stations.'}, {'url': 'https://weather.com/weather/today/l/Houston+TX?canonicalCityId=e7763a6187b4cb5fd0f85ad30c23f37f320bfe7e910e6fdbe90b501f206d265c', 'content': \"recents\\nSpecialty Forecasts\\nHouston, TX\\nChild Abduction Emergency\\nToday's Forecast for Houston, TX\\nMorning\\nAfternoon\\nEvening\\nOvernight\\nWeather Today in Houston, TX\\n6:51 am\\n6:18 pm\\nDon't Miss\\nHourly Forecast\\nNow\\n5 pm\\n6 pm\\n7 pm\\n8 pm\\nOutside\\nThat's Not What Was Expected\\nDaily Forecast\\nToday\\n Terms of Use | Privacy Policy\\nWinter Skin Check-In\\nHappening Near Houston, TX\\nPopular Nextdoor posts\\nMyth Busters\\nStay Safe\\nAir Quality Index\\nAir quality is acceptable; however, for some pollutants there may be a moderate health concern for a very small number of people who are unusually sensitive to air pollution.\\n Health & Activities\\nSeasonal Allergies and Pollen Count Forecast\\nTree pollen is high in your area\\nCold & Flu Forecast\\nFlu risk is low in your area\\n Tue 27\\nWed 28\\nThu 29\\nFri 01\\nRadar\\nIt Gets Wild In Winter\\n Wild Turkey\\nWeather in your inbox\\nYour local forecast, plus daily trivia, stunning photos and our meteorologists’ top picks.\"}, {'url': 'https://weather.com/weather/tenday/l/Houston+TX?canonicalCityId=e7763a6187b4cb5fd0f85ad30c23f37f320bfe7e910e6fdbe90b501f206d265c', 'content': \"Wild Turkey\\nInterstellar Innovations\\nMyth Busters\\nWinter Skin Check-In\\nStay Safe\\nAir Quality Index\\nAir quality is acceptable; however, for some pollutants there may be a moderate health concern for a very small number of people who are unusually sensitive to air pollution.\\n recents\\nSpecialty Forecasts\\n10 Day Weather-Houston, TX\\nChild Abduction Emergency\\nTonight\\nMon 26 | Night\\nPartly cloudy this evening, then becoming cloudy after midnight. Don't Miss\\nRadar\\nThe Importance Of Skin Health\\nNavigate Flip-Flopping Temps\\nThat's Not What Was Expected\\nOutside\\nMailman Vs. Health & Activities\\nSeasonal Allergies and Pollen Count Forecast\\nTree pollen is high in your area\\nCold & Flu Forecast\\nFlu risk is low in your area\\n Sun 03\\nSun 03 | Day\\nRain showers early with mostly cloudy conditions later in the day.\"}, {'url': 'https://www.accuweather.com/en/us/houston/77002/weather-forecast/351197', 'content': \"Allergy Outlook\\nTop Stories\\nWinter Weather\\n'Winter to return with a vengeance' as major snowstorm targets Northea...\\n1 hour ago\\nWinter Weather\\nNYC, Philly: Storm may cause burst of heavy snow\\n1 hour ago\\nWinter Weather\\nWhy February usually brings peak snowfall for parts of US\\n6 hours ago\\nSevere Weather\\nSoutheastern US tornado, flood risk continues through Monday evening\\n1 hour ago\\nWinter Weather\\nNine inches in Buffalo and two in Tulsa: How much snow will give kids ...\\n5 hours ago\\nFeatured Stories\\nWinter Weather\\nCalifornia hiker’s body recovered from Mt Baldy\\n6 hours ago\\nHurricane\\nShould there be a Category 6 for extremely powerful hurricanes?\\n5 days ago\\nWeather News\\nEarthquake survivors in Turkey struggle to rebuild their lives\\n6 days ago\\nWeather News\\nResearchers reveal first full passages decoded from famously inscrutab...\\n3 days ago\\nWeather News\\nSpiders spin webs to catch prey, but also trap wealth of information\\n6 days ago\\nWeather Near Houston:\\nWe have updated our Privacy Policy and Cookie Policy.\\n Today's Weather\\nMon, Feb 12\\nSome clouds, then sunshine, windy and cooler Hi: 60°\\nTonight:\\nClear and chilly Lo: 41°\\nCurrent Weather\\n1:56 PM\\nLooking Ahead\\nRain late Friday night\\nHouston Weather Radar & Maps\\nHourly Weather\\n10-Day Weather Forecast\\nToday\\n2/12\\nTue\\n2/13\\nWed\\n2/14\\nThu\\n2/15\\nFri\\n2/16\\nSat\\n2/17\\nSun\\n2/18\\nMon\\n2/19\\nTue\\n2/20\\nWed\\n2/21\\nSun & Moon\\n11 hrs\\n04 mins\\n12 hrs\\n28 mins\\nAir Quality\\n Houston, TX\\nHouston\\nTexas\\nAround the Globe\\nAround the Globe\\nHurricane Tracker\\nSevere Weather\\nRadar & Maps\\nNews & Features\\nAstronomy\\nBusiness\\nClimate\\nHealth\\nRecreation\\nSports\\nTravel\\nVideo\\nWinter Center\\nToday\\n The air quality is ideal for most individuals; enjoy your normal outdoor activities.\\n Get AccuWeather alerts as they happen with our browser notifications.\\n\"}]\u001b[0m\u001b[32;1m\u001b[1;3mThe weather in Houston, TX is currently mostly cloudy. The temperature is expected to be in the 70s throughout the day with partly cloudy conditions in the evening. If you would like more detailed information, you can visit [this link](https://weather.com/weather/hourbyhour/l/Houston+TX?canonicalCityId=e7763a6187b4cb5fd0f85ad30c23f37f320bfe7e910e6fdbe90b501f206d265c).\u001b[0m\n",
      "\n",
      "\u001b[1m> Finished chain.\u001b[0m\n"
     ]
    },
    {
     "data": {
      "text/plain": [
       "{'input': 'whats the weather in Houston TX?',\n",
       " 'output': 'The weather in Houston, TX is currently mostly cloudy. The temperature is expected to be in the 70s throughout the day with partly cloudy conditions in the evening. If you would like more detailed information, you can visit [this link](https://weather.com/weather/hourbyhour/l/Houston+TX?canonicalCityId=e7763a6187b4cb5fd0f85ad30c23f37f320bfe7e910e6fdbe90b501f206d265c).'}"
      ]
     },
     "execution_count": 17,
     "metadata": {},
     "output_type": "execute_result"
    }
   ],
   "source": [
    "agent_executor.invoke({\"input\": \"whats the weather in Houston TX?\"})"
   ]
  }
 ],
 "metadata": {
  "kernelspec": {
   "display_name": "Python 3",
   "language": "python",
   "name": "python3"
  },
  "language_info": {
   "codemirror_mode": {
    "name": "ipython",
    "version": 3
   },
   "file_extension": ".py",
   "mimetype": "text/x-python",
   "name": "python",
   "nbconvert_exporter": "python",
   "pygments_lexer": "ipython3",
   "version": "3.11.5"
  }
 },
 "nbformat": 4,
 "nbformat_minor": 2
}
